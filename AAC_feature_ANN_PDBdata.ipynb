{
  "nbformat": 4,
  "nbformat_minor": 0,
  "metadata": {
    "colab": {
      "name": "AAC_feature_ANN_PDBdata.ipynb",
      "provenance": [],
      "collapsed_sections": []
    },
    "kernelspec": {
      "name": "python3",
      "display_name": "Python 3"
    },
    "language_info": {
      "name": "python"
    }
  },
  "cells": [
    {
      "cell_type": "code",
      "execution_count": null,
      "metadata": {
        "id": "oMJhBfBagz02"
      },
      "outputs": [],
      "source": [
        "import pandas as pd\n",
        "import numpy as np\n",
        "import io\n",
        "import matplotlib.pyplot as plt\n",
        "import seaborn as sns\n",
        "from sklearn.metrics import accuracy_score, precision_score, recall_score, f1_score"
      ]
    },
    {
      "cell_type": "code",
      "source": [
        "# file1 = open(\"Uniswiss-tr-nega.csv\", \"a\")\n",
        "# file2 = open(\"Uniswiss-tr-posi.csv\", \"r\")\n",
        "\n",
        "# for line in file2:\n",
        "#    file1.write(line)\n",
        "\n",
        "# file1.close()\n",
        "# file2.close()"
      ],
      "metadata": {
        "id": "GGSdyrXFVMO4"
      },
      "execution_count": null,
      "outputs": []
    },
    {
      "cell_type": "code",
      "source": [
        "from google.colab import files\n",
        "uploaded = files.upload()"
      ],
      "metadata": {
        "colab": {
          "resources": {
            "http://localhost:8080/nbextensions/google.colab/files.js": {
              "data": "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",
              "ok": true,
              "headers": [
                [
                  "content-type",
                  "application/javascript"
                ]
              ],
              "status": 200,
              "status_text": ""
            }
          },
          "base_uri": "https://localhost:8080/",
          "height": 73
        },
        "id": "pSAaC0-ChKfg",
        "outputId": "54377a6d-4757-4340-b23b-e4138f17a05e"
      },
      "execution_count": null,
      "outputs": [
        {
          "output_type": "display_data",
          "data": {
            "text/html": [
              "\n",
              "     <input type=\"file\" id=\"files-eecb02c1-d76b-45de-86da-2d6a50567231\" name=\"files[]\" multiple disabled\n",
              "        style=\"border:none\" />\n",
              "     <output id=\"result-eecb02c1-d76b-45de-86da-2d6a50567231\">\n",
              "      Upload widget is only available when the cell has been executed in the\n",
              "      current browser session. Please rerun this cell to enable.\n",
              "      </output>\n",
              "      <script src=\"/nbextensions/google.colab/files.js\"></script> "
            ],
            "text/plain": [
              "<IPython.core.display.HTML object>"
            ]
          },
          "metadata": {}
        },
        {
          "output_type": "stream",
          "name": "stdout",
          "text": [
            "Saving train_pdb1075.csv to train_pdb1075.csv\n"
          ]
        }
      ]
    },
    {
      "cell_type": "code",
      "source": [
        "df = pd.read_csv(io.BytesIO(uploaded[\"train_pdb1075.csv\"]))\n",
        "display(df)"
      ],
      "metadata": {
        "colab": {
          "base_uri": "https://localhost:8080/",
          "height": 487
        },
        "id": "hfFxngDdhUyr",
        "outputId": "0ed67b93-325e-4c67-c8fa-93fb709a076a"
      },
      "execution_count": null,
      "outputs": [
        {
          "output_type": "display_data",
          "data": {
            "text/html": [
              "\n",
              "  <div id=\"df-12a09859-a885-4785-b70e-0eee796762ef\">\n",
              "    <div class=\"colab-df-container\">\n",
              "      <div>\n",
              "<style scoped>\n",
              "    .dataframe tbody tr th:only-of-type {\n",
              "        vertical-align: middle;\n",
              "    }\n",
              "\n",
              "    .dataframe tbody tr th {\n",
              "        vertical-align: top;\n",
              "    }\n",
              "\n",
              "    .dataframe thead th {\n",
              "        text-align: right;\n",
              "    }\n",
              "</style>\n",
              "<table border=\"1\" class=\"dataframe\">\n",
              "  <thead>\n",
              "    <tr style=\"text-align: right;\">\n",
              "      <th></th>\n",
              "      <th>StringID</th>\n",
              "      <th>A</th>\n",
              "      <th>C</th>\n",
              "      <th>D</th>\n",
              "      <th>E</th>\n",
              "      <th>F</th>\n",
              "      <th>G</th>\n",
              "      <th>H</th>\n",
              "      <th>I</th>\n",
              "      <th>K</th>\n",
              "      <th>L</th>\n",
              "      <th>M</th>\n",
              "      <th>N</th>\n",
              "      <th>P</th>\n",
              "      <th>Q</th>\n",
              "      <th>R</th>\n",
              "      <th>S</th>\n",
              "      <th>T</th>\n",
              "      <th>V</th>\n",
              "      <th>W</th>\n",
              "      <th>Y</th>\n",
              "      <th>Result</th>\n",
              "    </tr>\n",
              "  </thead>\n",
              "  <tbody>\n",
              "    <tr>\n",
              "      <th>0</th>\n",
              "      <td>1AKHA</td>\n",
              "      <td>0.049180</td>\n",
              "      <td>0.016393</td>\n",
              "      <td>0.000000</td>\n",
              "      <td>0.098361</td>\n",
              "      <td>0.049180</td>\n",
              "      <td>0.032787</td>\n",
              "      <td>0.000000</td>\n",
              "      <td>0.049180</td>\n",
              "      <td>0.196721</td>\n",
              "      <td>0.049180</td>\n",
              "      <td>0.016393</td>\n",
              "      <td>0.032787</td>\n",
              "      <td>0.049180</td>\n",
              "      <td>0.049180</td>\n",
              "      <td>0.098361</td>\n",
              "      <td>0.114754</td>\n",
              "      <td>0.016393</td>\n",
              "      <td>0.065574</td>\n",
              "      <td>0.016393</td>\n",
              "      <td>0.000000</td>\n",
              "      <td>1</td>\n",
              "    </tr>\n",
              "    <tr>\n",
              "      <th>1</th>\n",
              "      <td>1AOII</td>\n",
              "      <td>0.301370</td>\n",
              "      <td>0.198630</td>\n",
              "      <td>0.000000</td>\n",
              "      <td>0.000000</td>\n",
              "      <td>0.000000</td>\n",
              "      <td>0.198630</td>\n",
              "      <td>0.000000</td>\n",
              "      <td>0.000000</td>\n",
              "      <td>0.000000</td>\n",
              "      <td>0.000000</td>\n",
              "      <td>0.000000</td>\n",
              "      <td>0.000000</td>\n",
              "      <td>0.000000</td>\n",
              "      <td>0.000000</td>\n",
              "      <td>0.000000</td>\n",
              "      <td>0.000000</td>\n",
              "      <td>0.301370</td>\n",
              "      <td>0.000000</td>\n",
              "      <td>0.000000</td>\n",
              "      <td>0.000000</td>\n",
              "      <td>1</td>\n",
              "    </tr>\n",
              "    <tr>\n",
              "      <th>2</th>\n",
              "      <td>1B6WA</td>\n",
              "      <td>0.159420</td>\n",
              "      <td>0.000000</td>\n",
              "      <td>0.072464</td>\n",
              "      <td>0.101449</td>\n",
              "      <td>0.014493</td>\n",
              "      <td>0.057971</td>\n",
              "      <td>0.014493</td>\n",
              "      <td>0.144928</td>\n",
              "      <td>0.101449</td>\n",
              "      <td>0.072464</td>\n",
              "      <td>0.028986</td>\n",
              "      <td>0.000000</td>\n",
              "      <td>0.028986</td>\n",
              "      <td>0.000000</td>\n",
              "      <td>0.115942</td>\n",
              "      <td>0.028986</td>\n",
              "      <td>0.028986</td>\n",
              "      <td>0.028986</td>\n",
              "      <td>0.000000</td>\n",
              "      <td>0.000000</td>\n",
              "      <td>1</td>\n",
              "    </tr>\n",
              "    <tr>\n",
              "      <th>3</th>\n",
              "      <td>1C1KA</td>\n",
              "      <td>0.050691</td>\n",
              "      <td>0.009217</td>\n",
              "      <td>0.064516</td>\n",
              "      <td>0.055300</td>\n",
              "      <td>0.064516</td>\n",
              "      <td>0.027650</td>\n",
              "      <td>0.009217</td>\n",
              "      <td>0.105991</td>\n",
              "      <td>0.129032</td>\n",
              "      <td>0.082949</td>\n",
              "      <td>0.023041</td>\n",
              "      <td>0.059908</td>\n",
              "      <td>0.009217</td>\n",
              "      <td>0.041475</td>\n",
              "      <td>0.041475</td>\n",
              "      <td>0.069124</td>\n",
              "      <td>0.013825</td>\n",
              "      <td>0.050691</td>\n",
              "      <td>0.013825</td>\n",
              "      <td>0.078341</td>\n",
              "      <td>1</td>\n",
              "    </tr>\n",
              "    <tr>\n",
              "      <th>4</th>\n",
              "      <td>1C6VX</td>\n",
              "      <td>0.049383</td>\n",
              "      <td>0.000000</td>\n",
              "      <td>0.061728</td>\n",
              "      <td>0.086420</td>\n",
              "      <td>0.024691</td>\n",
              "      <td>0.123457</td>\n",
              "      <td>0.012346</td>\n",
              "      <td>0.037037</td>\n",
              "      <td>0.135802</td>\n",
              "      <td>0.061728</td>\n",
              "      <td>0.012346</td>\n",
              "      <td>0.024691</td>\n",
              "      <td>0.024691</td>\n",
              "      <td>0.037037</td>\n",
              "      <td>0.074074</td>\n",
              "      <td>0.061728</td>\n",
              "      <td>0.024691</td>\n",
              "      <td>0.086420</td>\n",
              "      <td>0.024691</td>\n",
              "      <td>0.037037</td>\n",
              "      <td>1</td>\n",
              "    </tr>\n",
              "    <tr>\n",
              "      <th>...</th>\n",
              "      <td>...</td>\n",
              "      <td>...</td>\n",
              "      <td>...</td>\n",
              "      <td>...</td>\n",
              "      <td>...</td>\n",
              "      <td>...</td>\n",
              "      <td>...</td>\n",
              "      <td>...</td>\n",
              "      <td>...</td>\n",
              "      <td>...</td>\n",
              "      <td>...</td>\n",
              "      <td>...</td>\n",
              "      <td>...</td>\n",
              "      <td>...</td>\n",
              "      <td>...</td>\n",
              "      <td>...</td>\n",
              "      <td>...</td>\n",
              "      <td>...</td>\n",
              "      <td>...</td>\n",
              "      <td>...</td>\n",
              "      <td>...</td>\n",
              "      <td>...</td>\n",
              "    </tr>\n",
              "    <tr>\n",
              "      <th>1070</th>\n",
              "      <td>2L8LA</td>\n",
              "      <td>0.093525</td>\n",
              "      <td>0.007194</td>\n",
              "      <td>0.071942</td>\n",
              "      <td>0.079137</td>\n",
              "      <td>0.021583</td>\n",
              "      <td>0.093525</td>\n",
              "      <td>0.043165</td>\n",
              "      <td>0.050360</td>\n",
              "      <td>0.028777</td>\n",
              "      <td>0.079137</td>\n",
              "      <td>0.000000</td>\n",
              "      <td>0.007194</td>\n",
              "      <td>0.035971</td>\n",
              "      <td>0.007194</td>\n",
              "      <td>0.107914</td>\n",
              "      <td>0.014388</td>\n",
              "      <td>0.086331</td>\n",
              "      <td>0.136691</td>\n",
              "      <td>0.021583</td>\n",
              "      <td>0.014388</td>\n",
              "      <td>0</td>\n",
              "    </tr>\n",
              "    <tr>\n",
              "      <th>1071</th>\n",
              "      <td>3QDDA</td>\n",
              "      <td>0.063291</td>\n",
              "      <td>0.000000</td>\n",
              "      <td>0.067511</td>\n",
              "      <td>0.113924</td>\n",
              "      <td>0.042194</td>\n",
              "      <td>0.063291</td>\n",
              "      <td>0.021097</td>\n",
              "      <td>0.084388</td>\n",
              "      <td>0.071730</td>\n",
              "      <td>0.075949</td>\n",
              "      <td>0.029536</td>\n",
              "      <td>0.033755</td>\n",
              "      <td>0.025316</td>\n",
              "      <td>0.046414</td>\n",
              "      <td>0.033755</td>\n",
              "      <td>0.067511</td>\n",
              "      <td>0.080169</td>\n",
              "      <td>0.046414</td>\n",
              "      <td>0.004219</td>\n",
              "      <td>0.029536</td>\n",
              "      <td>0</td>\n",
              "    </tr>\n",
              "    <tr>\n",
              "      <th>1072</th>\n",
              "      <td>3QBDA</td>\n",
              "      <td>0.135870</td>\n",
              "      <td>0.005435</td>\n",
              "      <td>0.073370</td>\n",
              "      <td>0.057065</td>\n",
              "      <td>0.016304</td>\n",
              "      <td>0.103261</td>\n",
              "      <td>0.040761</td>\n",
              "      <td>0.054348</td>\n",
              "      <td>0.035326</td>\n",
              "      <td>0.119565</td>\n",
              "      <td>0.016304</td>\n",
              "      <td>0.008152</td>\n",
              "      <td>0.057065</td>\n",
              "      <td>0.019022</td>\n",
              "      <td>0.062500</td>\n",
              "      <td>0.019022</td>\n",
              "      <td>0.048913</td>\n",
              "      <td>0.105978</td>\n",
              "      <td>0.008152</td>\n",
              "      <td>0.013587</td>\n",
              "      <td>0</td>\n",
              "    </tr>\n",
              "    <tr>\n",
              "      <th>1073</th>\n",
              "      <td>3QB4A</td>\n",
              "      <td>0.059829</td>\n",
              "      <td>0.059829</td>\n",
              "      <td>0.051282</td>\n",
              "      <td>0.068376</td>\n",
              "      <td>0.034188</td>\n",
              "      <td>0.034188</td>\n",
              "      <td>0.034188</td>\n",
              "      <td>0.051282</td>\n",
              "      <td>0.059829</td>\n",
              "      <td>0.076923</td>\n",
              "      <td>0.042735</td>\n",
              "      <td>0.051282</td>\n",
              "      <td>0.076923</td>\n",
              "      <td>0.025641</td>\n",
              "      <td>0.051282</td>\n",
              "      <td>0.076923</td>\n",
              "      <td>0.042735</td>\n",
              "      <td>0.059829</td>\n",
              "      <td>0.017094</td>\n",
              "      <td>0.025641</td>\n",
              "      <td>0</td>\n",
              "    </tr>\n",
              "    <tr>\n",
              "      <th>1074</th>\n",
              "      <td>2L8BA</td>\n",
              "      <td>0.095238</td>\n",
              "      <td>0.000000</td>\n",
              "      <td>0.052910</td>\n",
              "      <td>0.063492</td>\n",
              "      <td>0.005291</td>\n",
              "      <td>0.100529</td>\n",
              "      <td>0.015873</td>\n",
              "      <td>0.042328</td>\n",
              "      <td>0.031746</td>\n",
              "      <td>0.089947</td>\n",
              "      <td>0.042328</td>\n",
              "      <td>0.021164</td>\n",
              "      <td>0.026455</td>\n",
              "      <td>0.074074</td>\n",
              "      <td>0.095238</td>\n",
              "      <td>0.074074</td>\n",
              "      <td>0.068783</td>\n",
              "      <td>0.084656</td>\n",
              "      <td>0.005291</td>\n",
              "      <td>0.010582</td>\n",
              "      <td>0</td>\n",
              "    </tr>\n",
              "  </tbody>\n",
              "</table>\n",
              "<p>1075 rows × 22 columns</p>\n",
              "</div>\n",
              "      <button class=\"colab-df-convert\" onclick=\"convertToInteractive('df-12a09859-a885-4785-b70e-0eee796762ef')\"\n",
              "              title=\"Convert this dataframe to an interactive table.\"\n",
              "              style=\"display:none;\">\n",
              "        \n",
              "  <svg xmlns=\"http://www.w3.org/2000/svg\" height=\"24px\"viewBox=\"0 0 24 24\"\n",
              "       width=\"24px\">\n",
              "    <path d=\"M0 0h24v24H0V0z\" fill=\"none\"/>\n",
              "    <path d=\"M18.56 5.44l.94 2.06.94-2.06 2.06-.94-2.06-.94-.94-2.06-.94 2.06-2.06.94zm-11 1L8.5 8.5l.94-2.06 2.06-.94-2.06-.94L8.5 2.5l-.94 2.06-2.06.94zm10 10l.94 2.06.94-2.06 2.06-.94-2.06-.94-.94-2.06-.94 2.06-2.06.94z\"/><path d=\"M17.41 7.96l-1.37-1.37c-.4-.4-.92-.59-1.43-.59-.52 0-1.04.2-1.43.59L10.3 9.45l-7.72 7.72c-.78.78-.78 2.05 0 2.83L4 21.41c.39.39.9.59 1.41.59.51 0 1.02-.2 1.41-.59l7.78-7.78 2.81-2.81c.8-.78.8-2.07 0-2.86zM5.41 20L4 18.59l7.72-7.72 1.47 1.35L5.41 20z\"/>\n",
              "  </svg>\n",
              "      </button>\n",
              "      \n",
              "  <style>\n",
              "    .colab-df-container {\n",
              "      display:flex;\n",
              "      flex-wrap:wrap;\n",
              "      gap: 12px;\n",
              "    }\n",
              "\n",
              "    .colab-df-convert {\n",
              "      background-color: #E8F0FE;\n",
              "      border: none;\n",
              "      border-radius: 50%;\n",
              "      cursor: pointer;\n",
              "      display: none;\n",
              "      fill: #1967D2;\n",
              "      height: 32px;\n",
              "      padding: 0 0 0 0;\n",
              "      width: 32px;\n",
              "    }\n",
              "\n",
              "    .colab-df-convert:hover {\n",
              "      background-color: #E2EBFA;\n",
              "      box-shadow: 0px 1px 2px rgba(60, 64, 67, 0.3), 0px 1px 3px 1px rgba(60, 64, 67, 0.15);\n",
              "      fill: #174EA6;\n",
              "    }\n",
              "\n",
              "    [theme=dark] .colab-df-convert {\n",
              "      background-color: #3B4455;\n",
              "      fill: #D2E3FC;\n",
              "    }\n",
              "\n",
              "    [theme=dark] .colab-df-convert:hover {\n",
              "      background-color: #434B5C;\n",
              "      box-shadow: 0px 1px 3px 1px rgba(0, 0, 0, 0.15);\n",
              "      filter: drop-shadow(0px 1px 2px rgba(0, 0, 0, 0.3));\n",
              "      fill: #FFFFFF;\n",
              "    }\n",
              "  </style>\n",
              "\n",
              "      <script>\n",
              "        const buttonEl =\n",
              "          document.querySelector('#df-12a09859-a885-4785-b70e-0eee796762ef button.colab-df-convert');\n",
              "        buttonEl.style.display =\n",
              "          google.colab.kernel.accessAllowed ? 'block' : 'none';\n",
              "\n",
              "        async function convertToInteractive(key) {\n",
              "          const element = document.querySelector('#df-12a09859-a885-4785-b70e-0eee796762ef');\n",
              "          const dataTable =\n",
              "            await google.colab.kernel.invokeFunction('convertToInteractive',\n",
              "                                                     [key], {});\n",
              "          if (!dataTable) return;\n",
              "\n",
              "          const docLinkHtml = 'Like what you see? Visit the ' +\n",
              "            '<a target=\"_blank\" href=https://colab.research.google.com/notebooks/data_table.ipynb>data table notebook</a>'\n",
              "            + ' to learn more about interactive tables.';\n",
              "          element.innerHTML = '';\n",
              "          dataTable['output_type'] = 'display_data';\n",
              "          await google.colab.output.renderOutput(dataTable, element);\n",
              "          const docLink = document.createElement('div');\n",
              "          docLink.innerHTML = docLinkHtml;\n",
              "          element.appendChild(docLink);\n",
              "        }\n",
              "      </script>\n",
              "    </div>\n",
              "  </div>\n",
              "  "
            ],
            "text/plain": [
              "     StringID         A         C  ...         W         Y  Result\n",
              "0       1AKHA  0.049180  0.016393  ...  0.016393  0.000000       1\n",
              "1       1AOII  0.301370  0.198630  ...  0.000000  0.000000       1\n",
              "2       1B6WA  0.159420  0.000000  ...  0.000000  0.000000       1\n",
              "3       1C1KA  0.050691  0.009217  ...  0.013825  0.078341       1\n",
              "4       1C6VX  0.049383  0.000000  ...  0.024691  0.037037       1\n",
              "...       ...       ...       ...  ...       ...       ...     ...\n",
              "1070    2L8LA  0.093525  0.007194  ...  0.021583  0.014388       0\n",
              "1071    3QDDA  0.063291  0.000000  ...  0.004219  0.029536       0\n",
              "1072    3QBDA  0.135870  0.005435  ...  0.008152  0.013587       0\n",
              "1073    3QB4A  0.059829  0.059829  ...  0.017094  0.025641       0\n",
              "1074    2L8BA  0.095238  0.000000  ...  0.005291  0.010582       0\n",
              "\n",
              "[1075 rows x 22 columns]"
            ]
          },
          "metadata": {}
        }
      ]
    },
    {
      "cell_type": "code",
      "source": [
        "from google.colab import files\n",
        "uploaded = files.upload()"
      ],
      "metadata": {
        "colab": {
          "resources": {
            "http://localhost:8080/nbextensions/google.colab/files.js": {
              "data": "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",
              "ok": true,
              "headers": [
                [
                  "content-type",
                  "application/javascript"
                ]
              ],
              "status": 200,
              "status_text": ""
            }
          },
          "base_uri": "https://localhost:8080/",
          "height": 73
        },
        "id": "4HJcvRz6XJjO",
        "outputId": "46853567-d90e-4297-96f0-b07ee847d69d"
      },
      "execution_count": null,
      "outputs": [
        {
          "output_type": "display_data",
          "data": {
            "text/html": [
              "\n",
              "     <input type=\"file\" id=\"files-36c12a66-66f0-42f3-b167-a6251c34e920\" name=\"files[]\" multiple disabled\n",
              "        style=\"border:none\" />\n",
              "     <output id=\"result-36c12a66-66f0-42f3-b167-a6251c34e920\">\n",
              "      Upload widget is only available when the cell has been executed in the\n",
              "      current browser session. Please rerun this cell to enable.\n",
              "      </output>\n",
              "      <script src=\"/nbextensions/google.colab/files.js\"></script> "
            ],
            "text/plain": [
              "<IPython.core.display.HTML object>"
            ]
          },
          "metadata": {}
        },
        {
          "output_type": "stream",
          "name": "stdout",
          "text": [
            "Saving test_pdb186.csv to test_pdb186.csv\n"
          ]
        }
      ]
    },
    {
      "cell_type": "code",
      "source": [
        "df_tst = pd.read_csv(io.BytesIO(uploaded[\"test_pdb186.csv\"]))\n",
        "display(df_tst)"
      ],
      "metadata": {
        "id": "COYo6Pb1XN1v",
        "colab": {
          "base_uri": "https://localhost:8080/",
          "height": 487
        },
        "outputId": "1cf013e2-40a0-4cd3-f8f4-7d3b5f112d45"
      },
      "execution_count": null,
      "outputs": [
        {
          "output_type": "display_data",
          "data": {
            "text/html": [
              "\n",
              "  <div id=\"df-e3b7d7c0-42dc-4cc3-8120-6f24d080bc85\">\n",
              "    <div class=\"colab-df-container\">\n",
              "      <div>\n",
              "<style scoped>\n",
              "    .dataframe tbody tr th:only-of-type {\n",
              "        vertical-align: middle;\n",
              "    }\n",
              "\n",
              "    .dataframe tbody tr th {\n",
              "        vertical-align: top;\n",
              "    }\n",
              "\n",
              "    .dataframe thead th {\n",
              "        text-align: right;\n",
              "    }\n",
              "</style>\n",
              "<table border=\"1\" class=\"dataframe\">\n",
              "  <thead>\n",
              "    <tr style=\"text-align: right;\">\n",
              "      <th></th>\n",
              "      <th>StringID</th>\n",
              "      <th>A</th>\n",
              "      <th>C</th>\n",
              "      <th>D</th>\n",
              "      <th>E</th>\n",
              "      <th>F</th>\n",
              "      <th>G</th>\n",
              "      <th>H</th>\n",
              "      <th>I</th>\n",
              "      <th>K</th>\n",
              "      <th>L</th>\n",
              "      <th>M</th>\n",
              "      <th>N</th>\n",
              "      <th>P</th>\n",
              "      <th>Q</th>\n",
              "      <th>R</th>\n",
              "      <th>S</th>\n",
              "      <th>T</th>\n",
              "      <th>V</th>\n",
              "      <th>W</th>\n",
              "      <th>Y</th>\n",
              "      <th>Result</th>\n",
              "    </tr>\n",
              "  </thead>\n",
              "  <tbody>\n",
              "    <tr>\n",
              "      <th>0</th>\n",
              "      <td>2MA1A</td>\n",
              "      <td>0.120000</td>\n",
              "      <td>0.000000</td>\n",
              "      <td>0.053333</td>\n",
              "      <td>0.053333</td>\n",
              "      <td>0.026667</td>\n",
              "      <td>0.106667</td>\n",
              "      <td>0.040000</td>\n",
              "      <td>0.026667</td>\n",
              "      <td>0.053333</td>\n",
              "      <td>0.133333</td>\n",
              "      <td>0.000000</td>\n",
              "      <td>0.000000</td>\n",
              "      <td>0.053333</td>\n",
              "      <td>0.026667</td>\n",
              "      <td>0.066667</td>\n",
              "      <td>0.066667</td>\n",
              "      <td>0.066667</td>\n",
              "      <td>0.066667</td>\n",
              "      <td>0.013333</td>\n",
              "      <td>0.026667</td>\n",
              "      <td>1</td>\n",
              "    </tr>\n",
              "    <tr>\n",
              "      <th>1</th>\n",
              "      <td>4LC2A</td>\n",
              "      <td>0.060345</td>\n",
              "      <td>0.008621</td>\n",
              "      <td>0.068966</td>\n",
              "      <td>0.086207</td>\n",
              "      <td>0.068966</td>\n",
              "      <td>0.034483</td>\n",
              "      <td>0.008621</td>\n",
              "      <td>0.043103</td>\n",
              "      <td>0.068966</td>\n",
              "      <td>0.120690</td>\n",
              "      <td>0.043103</td>\n",
              "      <td>0.051724</td>\n",
              "      <td>0.043103</td>\n",
              "      <td>0.060345</td>\n",
              "      <td>0.068966</td>\n",
              "      <td>0.034483</td>\n",
              "      <td>0.043103</td>\n",
              "      <td>0.043103</td>\n",
              "      <td>0.000000</td>\n",
              "      <td>0.043103</td>\n",
              "      <td>1</td>\n",
              "    </tr>\n",
              "    <tr>\n",
              "      <th>2</th>\n",
              "      <td>4BLFA</td>\n",
              "      <td>0.070796</td>\n",
              "      <td>0.013274</td>\n",
              "      <td>0.066372</td>\n",
              "      <td>0.084071</td>\n",
              "      <td>0.053097</td>\n",
              "      <td>0.057522</td>\n",
              "      <td>0.026549</td>\n",
              "      <td>0.061947</td>\n",
              "      <td>0.079646</td>\n",
              "      <td>0.075221</td>\n",
              "      <td>0.008850</td>\n",
              "      <td>0.039823</td>\n",
              "      <td>0.039823</td>\n",
              "      <td>0.057522</td>\n",
              "      <td>0.084071</td>\n",
              "      <td>0.044248</td>\n",
              "      <td>0.053097</td>\n",
              "      <td>0.013274</td>\n",
              "      <td>0.008850</td>\n",
              "      <td>0.061947</td>\n",
              "      <td>1</td>\n",
              "    </tr>\n",
              "    <tr>\n",
              "      <th>3</th>\n",
              "      <td>4BJ1A</td>\n",
              "      <td>0.031348</td>\n",
              "      <td>0.012539</td>\n",
              "      <td>0.040752</td>\n",
              "      <td>0.065831</td>\n",
              "      <td>0.065831</td>\n",
              "      <td>0.028213</td>\n",
              "      <td>0.021944</td>\n",
              "      <td>0.078370</td>\n",
              "      <td>0.094044</td>\n",
              "      <td>0.103448</td>\n",
              "      <td>0.034483</td>\n",
              "      <td>0.068966</td>\n",
              "      <td>0.021944</td>\n",
              "      <td>0.037618</td>\n",
              "      <td>0.021944</td>\n",
              "      <td>0.115987</td>\n",
              "      <td>0.050157</td>\n",
              "      <td>0.059561</td>\n",
              "      <td>0.000000</td>\n",
              "      <td>0.047022</td>\n",
              "      <td>1</td>\n",
              "    </tr>\n",
              "    <tr>\n",
              "      <th>4</th>\n",
              "      <td>4BHXA</td>\n",
              "      <td>0.010638</td>\n",
              "      <td>0.021277</td>\n",
              "      <td>0.021277</td>\n",
              "      <td>0.127660</td>\n",
              "      <td>0.042553</td>\n",
              "      <td>0.021277</td>\n",
              "      <td>0.021277</td>\n",
              "      <td>0.063830</td>\n",
              "      <td>0.095745</td>\n",
              "      <td>0.148936</td>\n",
              "      <td>0.021277</td>\n",
              "      <td>0.042553</td>\n",
              "      <td>0.063830</td>\n",
              "      <td>0.042553</td>\n",
              "      <td>0.063830</td>\n",
              "      <td>0.010638</td>\n",
              "      <td>0.063830</td>\n",
              "      <td>0.053191</td>\n",
              "      <td>0.021277</td>\n",
              "      <td>0.042553</td>\n",
              "      <td>1</td>\n",
              "    </tr>\n",
              "    <tr>\n",
              "      <th>...</th>\n",
              "      <td>...</td>\n",
              "      <td>...</td>\n",
              "      <td>...</td>\n",
              "      <td>...</td>\n",
              "      <td>...</td>\n",
              "      <td>...</td>\n",
              "      <td>...</td>\n",
              "      <td>...</td>\n",
              "      <td>...</td>\n",
              "      <td>...</td>\n",
              "      <td>...</td>\n",
              "      <td>...</td>\n",
              "      <td>...</td>\n",
              "      <td>...</td>\n",
              "      <td>...</td>\n",
              "      <td>...</td>\n",
              "      <td>...</td>\n",
              "      <td>...</td>\n",
              "      <td>...</td>\n",
              "      <td>...</td>\n",
              "      <td>...</td>\n",
              "      <td>...</td>\n",
              "    </tr>\n",
              "    <tr>\n",
              "      <th>181</th>\n",
              "      <td>4FL4C</td>\n",
              "      <td>0.087227</td>\n",
              "      <td>0.003115</td>\n",
              "      <td>0.071651</td>\n",
              "      <td>0.068536</td>\n",
              "      <td>0.043614</td>\n",
              "      <td>0.084112</td>\n",
              "      <td>0.024922</td>\n",
              "      <td>0.087227</td>\n",
              "      <td>0.046729</td>\n",
              "      <td>0.056075</td>\n",
              "      <td>0.018692</td>\n",
              "      <td>0.052960</td>\n",
              "      <td>0.049844</td>\n",
              "      <td>0.012461</td>\n",
              "      <td>0.021807</td>\n",
              "      <td>0.052960</td>\n",
              "      <td>0.068536</td>\n",
              "      <td>0.109034</td>\n",
              "      <td>0.003115</td>\n",
              "      <td>0.037383</td>\n",
              "      <td>0</td>\n",
              "    </tr>\n",
              "    <tr>\n",
              "      <th>182</th>\n",
              "      <td>4AXNA</td>\n",
              "      <td>0.121951</td>\n",
              "      <td>0.000000</td>\n",
              "      <td>0.067073</td>\n",
              "      <td>0.039634</td>\n",
              "      <td>0.039634</td>\n",
              "      <td>0.082317</td>\n",
              "      <td>0.009146</td>\n",
              "      <td>0.070122</td>\n",
              "      <td>0.064024</td>\n",
              "      <td>0.076220</td>\n",
              "      <td>0.024390</td>\n",
              "      <td>0.082317</td>\n",
              "      <td>0.033537</td>\n",
              "      <td>0.039634</td>\n",
              "      <td>0.024390</td>\n",
              "      <td>0.039634</td>\n",
              "      <td>0.051829</td>\n",
              "      <td>0.054878</td>\n",
              "      <td>0.021341</td>\n",
              "      <td>0.057927</td>\n",
              "      <td>0</td>\n",
              "    </tr>\n",
              "    <tr>\n",
              "      <th>183</th>\n",
              "      <td>4AXQA</td>\n",
              "      <td>0.067485</td>\n",
              "      <td>0.036810</td>\n",
              "      <td>0.030675</td>\n",
              "      <td>0.055215</td>\n",
              "      <td>0.042945</td>\n",
              "      <td>0.055215</td>\n",
              "      <td>0.030675</td>\n",
              "      <td>0.049080</td>\n",
              "      <td>0.061350</td>\n",
              "      <td>0.085890</td>\n",
              "      <td>0.024540</td>\n",
              "      <td>0.055215</td>\n",
              "      <td>0.036810</td>\n",
              "      <td>0.018405</td>\n",
              "      <td>0.067485</td>\n",
              "      <td>0.092025</td>\n",
              "      <td>0.036810</td>\n",
              "      <td>0.116564</td>\n",
              "      <td>0.000000</td>\n",
              "      <td>0.036810</td>\n",
              "      <td>0</td>\n",
              "    </tr>\n",
              "    <tr>\n",
              "      <th>184</th>\n",
              "      <td>4FJ6A</td>\n",
              "      <td>0.059273</td>\n",
              "      <td>0.003824</td>\n",
              "      <td>0.063098</td>\n",
              "      <td>0.049713</td>\n",
              "      <td>0.021033</td>\n",
              "      <td>0.080306</td>\n",
              "      <td>0.022945</td>\n",
              "      <td>0.072658</td>\n",
              "      <td>0.055449</td>\n",
              "      <td>0.074570</td>\n",
              "      <td>0.032505</td>\n",
              "      <td>0.051625</td>\n",
              "      <td>0.047801</td>\n",
              "      <td>0.047801</td>\n",
              "      <td>0.045889</td>\n",
              "      <td>0.070746</td>\n",
              "      <td>0.082218</td>\n",
              "      <td>0.070746</td>\n",
              "      <td>0.024857</td>\n",
              "      <td>0.022945</td>\n",
              "      <td>0</td>\n",
              "    </tr>\n",
              "    <tr>\n",
              "      <th>185</th>\n",
              "      <td>4FIPA</td>\n",
              "      <td>0.042017</td>\n",
              "      <td>0.054622</td>\n",
              "      <td>0.048319</td>\n",
              "      <td>0.048319</td>\n",
              "      <td>0.052521</td>\n",
              "      <td>0.056723</td>\n",
              "      <td>0.044118</td>\n",
              "      <td>0.077731</td>\n",
              "      <td>0.079832</td>\n",
              "      <td>0.086134</td>\n",
              "      <td>0.021008</td>\n",
              "      <td>0.075630</td>\n",
              "      <td>0.023109</td>\n",
              "      <td>0.052521</td>\n",
              "      <td>0.021008</td>\n",
              "      <td>0.088235</td>\n",
              "      <td>0.042017</td>\n",
              "      <td>0.042017</td>\n",
              "      <td>0.010504</td>\n",
              "      <td>0.033613</td>\n",
              "      <td>0</td>\n",
              "    </tr>\n",
              "  </tbody>\n",
              "</table>\n",
              "<p>186 rows × 22 columns</p>\n",
              "</div>\n",
              "      <button class=\"colab-df-convert\" onclick=\"convertToInteractive('df-e3b7d7c0-42dc-4cc3-8120-6f24d080bc85')\"\n",
              "              title=\"Convert this dataframe to an interactive table.\"\n",
              "              style=\"display:none;\">\n",
              "        \n",
              "  <svg xmlns=\"http://www.w3.org/2000/svg\" height=\"24px\"viewBox=\"0 0 24 24\"\n",
              "       width=\"24px\">\n",
              "    <path d=\"M0 0h24v24H0V0z\" fill=\"none\"/>\n",
              "    <path d=\"M18.56 5.44l.94 2.06.94-2.06 2.06-.94-2.06-.94-.94-2.06-.94 2.06-2.06.94zm-11 1L8.5 8.5l.94-2.06 2.06-.94-2.06-.94L8.5 2.5l-.94 2.06-2.06.94zm10 10l.94 2.06.94-2.06 2.06-.94-2.06-.94-.94-2.06-.94 2.06-2.06.94z\"/><path d=\"M17.41 7.96l-1.37-1.37c-.4-.4-.92-.59-1.43-.59-.52 0-1.04.2-1.43.59L10.3 9.45l-7.72 7.72c-.78.78-.78 2.05 0 2.83L4 21.41c.39.39.9.59 1.41.59.51 0 1.02-.2 1.41-.59l7.78-7.78 2.81-2.81c.8-.78.8-2.07 0-2.86zM5.41 20L4 18.59l7.72-7.72 1.47 1.35L5.41 20z\"/>\n",
              "  </svg>\n",
              "      </button>\n",
              "      \n",
              "  <style>\n",
              "    .colab-df-container {\n",
              "      display:flex;\n",
              "      flex-wrap:wrap;\n",
              "      gap: 12px;\n",
              "    }\n",
              "\n",
              "    .colab-df-convert {\n",
              "      background-color: #E8F0FE;\n",
              "      border: none;\n",
              "      border-radius: 50%;\n",
              "      cursor: pointer;\n",
              "      display: none;\n",
              "      fill: #1967D2;\n",
              "      height: 32px;\n",
              "      padding: 0 0 0 0;\n",
              "      width: 32px;\n",
              "    }\n",
              "\n",
              "    .colab-df-convert:hover {\n",
              "      background-color: #E2EBFA;\n",
              "      box-shadow: 0px 1px 2px rgba(60, 64, 67, 0.3), 0px 1px 3px 1px rgba(60, 64, 67, 0.15);\n",
              "      fill: #174EA6;\n",
              "    }\n",
              "\n",
              "    [theme=dark] .colab-df-convert {\n",
              "      background-color: #3B4455;\n",
              "      fill: #D2E3FC;\n",
              "    }\n",
              "\n",
              "    [theme=dark] .colab-df-convert:hover {\n",
              "      background-color: #434B5C;\n",
              "      box-shadow: 0px 1px 3px 1px rgba(0, 0, 0, 0.15);\n",
              "      filter: drop-shadow(0px 1px 2px rgba(0, 0, 0, 0.3));\n",
              "      fill: #FFFFFF;\n",
              "    }\n",
              "  </style>\n",
              "\n",
              "      <script>\n",
              "        const buttonEl =\n",
              "          document.querySelector('#df-e3b7d7c0-42dc-4cc3-8120-6f24d080bc85 button.colab-df-convert');\n",
              "        buttonEl.style.display =\n",
              "          google.colab.kernel.accessAllowed ? 'block' : 'none';\n",
              "\n",
              "        async function convertToInteractive(key) {\n",
              "          const element = document.querySelector('#df-e3b7d7c0-42dc-4cc3-8120-6f24d080bc85');\n",
              "          const dataTable =\n",
              "            await google.colab.kernel.invokeFunction('convertToInteractive',\n",
              "                                                     [key], {});\n",
              "          if (!dataTable) return;\n",
              "\n",
              "          const docLinkHtml = 'Like what you see? Visit the ' +\n",
              "            '<a target=\"_blank\" href=https://colab.research.google.com/notebooks/data_table.ipynb>data table notebook</a>'\n",
              "            + ' to learn more about interactive tables.';\n",
              "          element.innerHTML = '';\n",
              "          dataTable['output_type'] = 'display_data';\n",
              "          await google.colab.output.renderOutput(dataTable, element);\n",
              "          const docLink = document.createElement('div');\n",
              "          docLink.innerHTML = docLinkHtml;\n",
              "          element.appendChild(docLink);\n",
              "        }\n",
              "      </script>\n",
              "    </div>\n",
              "  </div>\n",
              "  "
            ],
            "text/plain": [
              "    StringID         A         C  ...         W         Y  Result\n",
              "0      2MA1A  0.120000  0.000000  ...  0.013333  0.026667       1\n",
              "1      4LC2A  0.060345  0.008621  ...  0.000000  0.043103       1\n",
              "2      4BLFA  0.070796  0.013274  ...  0.008850  0.061947       1\n",
              "3      4BJ1A  0.031348  0.012539  ...  0.000000  0.047022       1\n",
              "4      4BHXA  0.010638  0.021277  ...  0.021277  0.042553       1\n",
              "..       ...       ...       ...  ...       ...       ...     ...\n",
              "181    4FL4C  0.087227  0.003115  ...  0.003115  0.037383       0\n",
              "182    4AXNA  0.121951  0.000000  ...  0.021341  0.057927       0\n",
              "183    4AXQA  0.067485  0.036810  ...  0.000000  0.036810       0\n",
              "184    4FJ6A  0.059273  0.003824  ...  0.024857  0.022945       0\n",
              "185    4FIPA  0.042017  0.054622  ...  0.010504  0.033613       0\n",
              "\n",
              "[186 rows x 22 columns]"
            ]
          },
          "metadata": {}
        }
      ]
    },
    {
      "cell_type": "code",
      "source": [
        "df_tst.isnull().sum().sort_values(ascending = False)"
      ],
      "metadata": {
        "id": "X400VNqchU5U",
        "colab": {
          "base_uri": "https://localhost:8080/"
        },
        "outputId": "a15652ea-94c9-49db-fba8-87bc6da0ee03"
      },
      "execution_count": null,
      "outputs": [
        {
          "output_type": "execute_result",
          "data": {
            "text/plain": [
              "Result      0\n",
              "Y           0\n",
              "A           0\n",
              "C           0\n",
              "D           0\n",
              "E           0\n",
              "F           0\n",
              "G           0\n",
              "H           0\n",
              "I           0\n",
              "K           0\n",
              "L           0\n",
              "M           0\n",
              "N           0\n",
              "P           0\n",
              "Q           0\n",
              "R           0\n",
              "S           0\n",
              "T           0\n",
              "V           0\n",
              "W           0\n",
              "StringID    0\n",
              "dtype: int64"
            ]
          },
          "metadata": {},
          "execution_count": 13
        }
      ]
    },
    {
      "cell_type": "code",
      "source": [
        "# frames = [nega_df, posi_df]\n",
        "# df = pd.concat(frames)"
      ],
      "metadata": {
        "id": "yVl17UHEYMZ-"
      },
      "execution_count": null,
      "outputs": []
    },
    {
      "cell_type": "code",
      "source": [
        "sns.catplot(x = 'Result', kind = 'count', data = df, palette='viridis')"
      ],
      "metadata": {
        "id": "gjx31FHqhhFc",
        "colab": {
          "base_uri": "https://localhost:8080/",
          "height": 387
        },
        "outputId": "9a8cd0e6-568d-4501-ba26-62373ec69773"
      },
      "execution_count": null,
      "outputs": [
        {
          "output_type": "execute_result",
          "data": {
            "text/plain": [
              "<seaborn.axisgrid.FacetGrid at 0x7fba9c63d710>"
            ]
          },
          "metadata": {},
          "execution_count": 15
        },
        {
          "output_type": "display_data",
          "data": {
            "image/png": "[encoded data removed]",
            "text/plain": [
              "<Figure size 360x360 with 1 Axes>"
            ]
          },
          "metadata": {
            "needs_background": "light"
          }
        }
      ]
    },
    {
      "cell_type": "code",
      "source": [
        "df['Result'].value_counts()"
      ],
      "metadata": {
        "id": "k96F2cIChpVU",
        "colab": {
          "base_uri": "https://localhost:8080/"
        },
        "outputId": "464ef998-b792-4193-b53c-39135b7fcdf9"
      },
      "execution_count": null,
      "outputs": [
        {
          "output_type": "execute_result",
          "data": {
            "text/plain": [
              "0    550\n",
              "1    525\n",
              "Name: Result, dtype: int64"
            ]
          },
          "metadata": {},
          "execution_count": 16
        }
      ]
    },
    {
      "cell_type": "code",
      "source": [
        "from sklearn.utils import resample\n",
        "df_0 = df[df['Result'] == 0]\n",
        "df_1 = df[df['Result'] == 1]"
      ],
      "metadata": {
        "id": "hi4gJfIZWUld"
      },
      "execution_count": null,
      "outputs": []
    },
    {
      "cell_type": "code",
      "source": [
        "df_1_over_sampling = resample(df_1 , n_samples = 550, replace = True, random_state = 123)"
      ],
      "metadata": {
        "id": "IqGeJKzRWUyX"
      },
      "execution_count": null,
      "outputs": []
    },
    {
      "cell_type": "code",
      "source": [
        "df_balanced = pd.concat([df_0, df_1_over_sampling])"
      ],
      "metadata": {
        "id": "BVwXbrHMWpie"
      },
      "execution_count": null,
      "outputs": []
    },
    {
      "cell_type": "code",
      "source": [
        "sns.catplot(x = 'Result', kind = 'count', data = df_balanced, palette='viridis')"
      ],
      "metadata": {
        "id": "WXG84HIYWyRV",
        "colab": {
          "base_uri": "https://localhost:8080/",
          "height": 387
        },
        "outputId": "3f102048-d150-49f6-f648-f2994261fd03"
      },
      "execution_count": null,
      "outputs": [
        {
          "output_type": "execute_result",
          "data": {
            "text/plain": [
              "<seaborn.axisgrid.FacetGrid at 0x7fba9b3ff110>"
            ]
          },
          "metadata": {},
          "execution_count": 20
        },
        {
          "output_type": "display_data",
          "data": {
            "image/png": "[encoded data removed]",
            "text/plain": [
              "<Figure size 360x360 with 1 Axes>"
            ]
          },
          "metadata": {
            "needs_background": "light"
          }
        }
      ]
    },
    {
      "cell_type": "code",
      "source": [
        "from pylab import savefig\n",
        "plt.figure(figsize=(13,8))\n",
        "svm = sns.heatmap(df.corr(), annot= True, cmap = 'RdYlGn')\n",
        "figure = svm.get_figure()    \n",
        "figure.savefig('corr_pdb.png', dpi=400)"
      ],
      "metadata": {
        "id": "-T0dle5Kh6rs",
        "colab": {
          "base_uri": "https://localhost:8080/",
          "height": 487
        },
        "outputId": "6fefdb91-7a9e-412a-db8c-3a3da71fe030"
      },
      "execution_count": null,
      "outputs": [
        {
          "output_type": "display_data",
          "data": {
            "image/png": "[encoded data removed]",
            "text/plain": [
              "<Figure size 936x576 with 2 Axes>"
            ]
          },
          "metadata": {
            "needs_background": "light"
          }
        }
      ]
    },
    {
      "cell_type": "code",
      "source": [
        "df_balanced.keys()"
      ],
      "metadata": {
        "id": "Y2SKLJONXDwJ",
        "colab": {
          "base_uri": "https://localhost:8080/"
        },
        "outputId": "e021e5a3-a370-4149-c83e-f31d1ce9b034"
      },
      "execution_count": null,
      "outputs": [
        {
          "output_type": "execute_result",
          "data": {
            "text/plain": [
              "Index(['StringID', 'A', 'C', 'D', 'E', 'F', 'G', 'H', 'I', 'K', 'L', 'M', 'N',\n",
              "       'P', 'Q', 'R', 'S', 'T', 'V', 'W', 'Y', 'Result'],\n",
              "      dtype='object')"
            ]
          },
          "metadata": {},
          "execution_count": 22
        }
      ]
    },
    {
      "cell_type": "code",
      "source": [
        "X = df.drop(['Result', 'StringID','Y'], axis = 1)\n",
        "y = df['Result']"
      ],
      "metadata": {
        "id": "A0Rspq5ah9Ri"
      },
      "execution_count": null,
      "outputs": []
    },
    {
      "cell_type": "markdown",
      "source": [
        "#Train set val set"
      ],
      "metadata": {
        "id": "qaJEnZMwMa7Y"
      }
    },
    {
      "cell_type": "code",
      "source": [
        "from sklearn.model_selection import train_test_split\n",
        "X_train, X_test, y_train, y_test = train_test_split(X, y, test_size = 0.3, random_state = 2)"
      ],
      "metadata": {
        "id": "PIw8wBFSh_4o"
      },
      "execution_count": null,
      "outputs": []
    },
    {
      "cell_type": "code",
      "source": [
        "import tensorflow as tf\n",
        "from keras.layers import Dense, Dropout\n",
        "from keras.models import Sequential\n",
        "from tensorflow import keras\n",
        "# from keras.optimizers import Adam\n",
        "from tensorflow.keras.optimizers import Adam"
      ],
      "metadata": {
        "id": "TYeEtxNliDOf"
      },
      "execution_count": null,
      "outputs": []
    },
    {
      "cell_type": "code",
      "source": [
        "def build_model():\n",
        "    model = Sequential()\n",
        "\n",
        "    # Input Layer\n",
        "    model.add(Dense(units = 64, activation = 'relu', input_shape = [len(X.keys())]))\n",
        "    model.add(Dropout(0.2))\n",
        "\n",
        "    # Hidden Layer - I\n",
        "    model.add(Dense(units = 128, activation= 'relu'))\n",
        "    model.add(Dropout(0.2))\n",
        "\n",
        "    # Hidden Layer - II\n",
        "    model.add(Dense(units = 128, activation= 'relu'))\n",
        "    model.add(Dropout(0.2))\n",
        "\n",
        "    # Output Layer\n",
        "    model.add(Dense(units = 1, activation='sigmoid'))\n",
        "  \n",
        "    # Optimizers \n",
        "    # Learning rate 'alpha' = (0.00001 - 0.1) \n",
        "    optimizers = Adam(learning_rate= 0.001)\n",
        "\n",
        "    # Multiclass - categorical_crossentropy\n",
        "    model.compile(loss = 'binary_crossentropy', optimizer = optimizers, metrics = ['accuracy'])\n",
        "    \n",
        "    return model"
      ],
      "metadata": {
        "id": "ir9CY9kkhm0E"
      },
      "execution_count": null,
      "outputs": []
    },
    {
      "cell_type": "code",
      "source": [
        "model = build_model()"
      ],
      "metadata": {
        "id": "oa_ebdFtiMmg"
      },
      "execution_count": null,
      "outputs": []
    },
    {
      "cell_type": "code",
      "source": [
        "model.summary()"
      ],
      "metadata": {
        "id": "IAx5uzIViOh8",
        "colab": {
          "base_uri": "https://localhost:8080/"
        },
        "outputId": "9115f63e-a3b1-4862-9bad-2aa3acee1672"
      },
      "execution_count": null,
      "outputs": [
        {
          "output_type": "stream",
          "name": "stdout",
          "text": [
            "Model: \"sequential_1\"\n",
            "_________________________________________________________________\n",
            " Layer (type)                Output Shape              Param #   \n",
            "=================================================================\n",
            " dense (Dense)               (None, 64)                1280      \n",
            "                                                                 \n",
            " dropout (Dropout)           (None, 64)                0         \n",
            "                                                                 \n",
            " dense_1 (Dense)             (None, 128)               8320      \n",
            "                                                                 \n",
            " dropout_1 (Dropout)         (None, 128)               0         \n",
            "                                                                 \n",
            " dense_2 (Dense)             (None, 128)               16512     \n",
            "                                                                 \n",
            " dropout_2 (Dropout)         (None, 128)               0         \n",
            "                                                                 \n",
            " dense_3 (Dense)             (None, 1)                 129       \n",
            "                                                                 \n",
            "=================================================================\n",
            "Total params: 26,241\n",
            "Trainable params: 26,241\n",
            "Non-trainable params: 0\n",
            "_________________________________________________________________\n"
          ]
        }
      ]
    },
    {
      "cell_type": "code",
      "source": [
        "from keras.utils.vis_utils import plot_model\n",
        "plot_model(model,to_file='model.png',show_shapes=True,show_layer_names=True)"
      ],
      "metadata": {
        "id": "sZk6frERiQfF",
        "colab": {
          "base_uri": "https://localhost:8080/",
          "height": 865
        },
        "outputId": "6c4c45c5-f6a1-4d7f-fcfd-9d4c3ba5e24a"
      },
      "execution_count": null,
      "outputs": [
        {
          "output_type": "execute_result",
          "data": {
            "image/png": "[encoded data removed]",
            "text/plain": [
              "<IPython.core.display.Image object>"
            ]
          },
          "metadata": {},
          "execution_count": 29
        }
      ]
    },
    {
      "cell_type": "code",
      "source": [
        "history = model.fit(X_train, y_train, epochs = 500, batch_size= 25, validation_split = 0.2)"
      ],
      "metadata": {
        "id": "sqeN6mR_iIwm",
        "colab": {
          "base_uri": "https://localhost:8080/"
        },
        "outputId": "5a4d8b17-5e3d-4c67-f07b-6b47d033cd18"
      },
      "execution_count": null,
      "outputs": [
        {
          "output_type": "stream",
          "name": "stdout",
          "text": [
            "Epoch 1/500\n",
            "25/25 [==============================] - 2s 14ms/step - loss: 0.6919 - accuracy: 0.5591 - val_loss: 0.6887 - val_accuracy: 0.6623\n",
            "Epoch 2/500\n",
            "25/25 [==============================] - 0s 13ms/step - loss: 0.6871 - accuracy: 0.6007 - val_loss: 0.6805 - val_accuracy: 0.6821\n",
            "Epoch 3/500\n",
            "25/25 [==============================] - 0s 14ms/step - loss: 0.6767 - accuracy: 0.6689 - val_loss: 0.6652 - val_accuracy: 0.6887\n",
            "Epoch 4/500\n",
            "25/25 [==============================] - 0s 7ms/step - loss: 0.6602 - accuracy: 0.6406 - val_loss: 0.6314 - val_accuracy: 0.7285\n",
            "Epoch 5/500\n",
            "25/25 [==============================] - 0s 4ms/step - loss: 0.6160 - accuracy: 0.6705 - val_loss: 0.5870 - val_accuracy: 0.7219\n",
            "Epoch 6/500\n",
            "25/25 [==============================] - 0s 4ms/step - loss: 0.5910 - accuracy: 0.7138 - val_loss: 0.5898 - val_accuracy: 0.6954\n",
            "Epoch 7/500\n",
            "25/25 [==============================] - 0s 4ms/step - loss: 0.5775 - accuracy: 0.6889 - val_loss: 0.5539 - val_accuracy: 0.7152\n",
            "Epoch 8/500\n",
            "25/25 [==============================] - 0s 9ms/step - loss: 0.5432 - accuracy: 0.7571 - val_loss: 0.5376 - val_accuracy: 0.7351\n",
            "Epoch 9/500\n",
            "25/25 [==============================] - 0s 13ms/step - loss: 0.5468 - accuracy: 0.7321 - val_loss: 0.5333 - val_accuracy: 0.7351\n",
            "Epoch 10/500\n",
            "25/25 [==============================] - 0s 13ms/step - loss: 0.5344 - accuracy: 0.7354 - val_loss: 0.5398 - val_accuracy: 0.7152\n",
            "Epoch 11/500\n",
            "25/25 [==============================] - 0s 4ms/step - loss: 0.5480 - accuracy: 0.7304 - val_loss: 0.5333 - val_accuracy: 0.7152\n",
            "Epoch 12/500\n",
            "25/25 [==============================] - 0s 4ms/step - loss: 0.5379 - accuracy: 0.7404 - val_loss: 0.5270 - val_accuracy: 0.7417\n",
            "Epoch 13/500\n",
            "25/25 [==============================] - 0s 5ms/step - loss: 0.5253 - accuracy: 0.7471 - val_loss: 0.5301 - val_accuracy: 0.7417\n",
            "Epoch 14/500\n",
            "25/25 [==============================] - 0s 4ms/step - loss: 0.5217 - accuracy: 0.7338 - val_loss: 0.5384 - val_accuracy: 0.7351\n",
            "Epoch 15/500\n",
            "25/25 [==============================] - 0s 4ms/step - loss: 0.5351 - accuracy: 0.7504 - val_loss: 0.5237 - val_accuracy: 0.7351\n",
            "Epoch 16/500\n",
            "25/25 [==============================] - 0s 4ms/step - loss: 0.4969 - accuracy: 0.7804 - val_loss: 0.5170 - val_accuracy: 0.7616\n",
            "Epoch 17/500\n",
            "25/25 [==============================] - 0s 4ms/step - loss: 0.5162 - accuracy: 0.7454 - val_loss: 0.5164 - val_accuracy: 0.7682\n",
            "Epoch 18/500\n",
            "25/25 [==============================] - 0s 4ms/step - loss: 0.5105 - accuracy: 0.7737 - val_loss: 0.5792 - val_accuracy: 0.7285\n",
            "Epoch 19/500\n",
            "25/25 [==============================] - 0s 4ms/step - loss: 0.5230 - accuracy: 0.7537 - val_loss: 0.5466 - val_accuracy: 0.7351\n",
            "Epoch 20/500\n",
            "25/25 [==============================] - 0s 4ms/step - loss: 0.4904 - accuracy: 0.7804 - val_loss: 0.5353 - val_accuracy: 0.7351\n",
            "Epoch 21/500\n",
            "25/25 [==============================] - 0s 5ms/step - loss: 0.5062 - accuracy: 0.7654 - val_loss: 0.5223 - val_accuracy: 0.7616\n",
            "Epoch 22/500\n",
            "25/25 [==============================] - 0s 4ms/step - loss: 0.4698 - accuracy: 0.7837 - val_loss: 0.5389 - val_accuracy: 0.7219\n",
            "Epoch 23/500\n",
            "25/25 [==============================] - 0s 4ms/step - loss: 0.4870 - accuracy: 0.7837 - val_loss: 0.5147 - val_accuracy: 0.7748\n",
            "Epoch 24/500\n",
            "25/25 [==============================] - 0s 4ms/step - loss: 0.4770 - accuracy: 0.7903 - val_loss: 0.5485 - val_accuracy: 0.7086\n",
            "Epoch 25/500\n",
            "25/25 [==============================] - 0s 4ms/step - loss: 0.4818 - accuracy: 0.7787 - val_loss: 0.5295 - val_accuracy: 0.7285\n",
            "Epoch 26/500\n",
            "25/25 [==============================] - 0s 4ms/step - loss: 0.4860 - accuracy: 0.7804 - val_loss: 0.5178 - val_accuracy: 0.7483\n",
            "Epoch 27/500\n",
            "25/25 [==============================] - 0s 4ms/step - loss: 0.4824 - accuracy: 0.7770 - val_loss: 0.5219 - val_accuracy: 0.7417\n",
            "Epoch 28/500\n",
            "25/25 [==============================] - 0s 5ms/step - loss: 0.4879 - accuracy: 0.7671 - val_loss: 0.5228 - val_accuracy: 0.7483\n",
            "Epoch 29/500\n",
            "25/25 [==============================] - 0s 4ms/step - loss: 0.4719 - accuracy: 0.7787 - val_loss: 0.5932 - val_accuracy: 0.7020\n",
            "Epoch 30/500\n",
            "25/25 [==============================] - 0s 5ms/step - loss: 0.4860 - accuracy: 0.7737 - val_loss: 0.6775 - val_accuracy: 0.6358\n",
            "Epoch 31/500\n",
            "25/25 [==============================] - 0s 4ms/step - loss: 0.5528 - accuracy: 0.7238 - val_loss: 0.5144 - val_accuracy: 0.7483\n",
            "Epoch 32/500\n",
            "25/25 [==============================] - 0s 4ms/step - loss: 0.4757 - accuracy: 0.7920 - val_loss: 0.5386 - val_accuracy: 0.7086\n",
            "Epoch 33/500\n",
            "25/25 [==============================] - 0s 4ms/step - loss: 0.4996 - accuracy: 0.7687 - val_loss: 0.5211 - val_accuracy: 0.7351\n",
            "Epoch 34/500\n",
            "25/25 [==============================] - 0s 4ms/step - loss: 0.4613 - accuracy: 0.7870 - val_loss: 0.5407 - val_accuracy: 0.7152\n",
            "Epoch 35/500\n",
            "25/25 [==============================] - 0s 4ms/step - loss: 0.5025 - accuracy: 0.7587 - val_loss: 0.5025 - val_accuracy: 0.7550\n",
            "Epoch 36/500\n",
            "25/25 [==============================] - 0s 4ms/step - loss: 0.4736 - accuracy: 0.7870 - val_loss: 0.5056 - val_accuracy: 0.7748\n",
            "Epoch 37/500\n",
            "25/25 [==============================] - 0s 4ms/step - loss: 0.4592 - accuracy: 0.8070 - val_loss: 0.5104 - val_accuracy: 0.7682\n",
            "Epoch 38/500\n",
            "25/25 [==============================] - 0s 4ms/step - loss: 0.4634 - accuracy: 0.7820 - val_loss: 0.5412 - val_accuracy: 0.7351\n",
            "Epoch 39/500\n",
            "25/25 [==============================] - 0s 4ms/step - loss: 0.4802 - accuracy: 0.7720 - val_loss: 0.5397 - val_accuracy: 0.7417\n",
            "Epoch 40/500\n",
            "25/25 [==============================] - 0s 5ms/step - loss: 0.4848 - accuracy: 0.7820 - val_loss: 0.5410 - val_accuracy: 0.6954\n",
            "Epoch 41/500\n",
            "25/25 [==============================] - 0s 5ms/step - loss: 0.5107 - accuracy: 0.7521 - val_loss: 0.5152 - val_accuracy: 0.7417\n",
            "Epoch 42/500\n",
            "25/25 [==============================] - 0s 4ms/step - loss: 0.4609 - accuracy: 0.7837 - val_loss: 0.5130 - val_accuracy: 0.7616\n",
            "Epoch 43/500\n",
            "25/25 [==============================] - 0s 4ms/step - loss: 0.4506 - accuracy: 0.7987 - val_loss: 0.5030 - val_accuracy: 0.7616\n",
            "Epoch 44/500\n",
            "25/25 [==============================] - 0s 4ms/step - loss: 0.4832 - accuracy: 0.7820 - val_loss: 0.5217 - val_accuracy: 0.7219\n",
            "Epoch 45/500\n",
            "25/25 [==============================] - 0s 4ms/step - loss: 0.4738 - accuracy: 0.7737 - val_loss: 0.5080 - val_accuracy: 0.7550\n",
            "Epoch 46/500\n",
            "25/25 [==============================] - 0s 4ms/step - loss: 0.4561 - accuracy: 0.7987 - val_loss: 0.5025 - val_accuracy: 0.7550\n",
            "Epoch 47/500\n",
            "25/25 [==============================] - 0s 5ms/step - loss: 0.4358 - accuracy: 0.8153 - val_loss: 0.5148 - val_accuracy: 0.7682\n",
            "Epoch 48/500\n",
            "25/25 [==============================] - 0s 4ms/step - loss: 0.4432 - accuracy: 0.7920 - val_loss: 0.5130 - val_accuracy: 0.7682\n",
            "Epoch 49/500\n",
            "25/25 [==============================] - 0s 4ms/step - loss: 0.4489 - accuracy: 0.7987 - val_loss: 0.5194 - val_accuracy: 0.7285\n",
            "Epoch 50/500\n",
            "25/25 [==============================] - 0s 4ms/step - loss: 0.4435 - accuracy: 0.8087 - val_loss: 0.5099 - val_accuracy: 0.7616\n",
            "Epoch 51/500\n",
            "25/25 [==============================] - 0s 4ms/step - loss: 0.4327 - accuracy: 0.8053 - val_loss: 0.5258 - val_accuracy: 0.7219\n",
            "Epoch 52/500\n",
            "25/25 [==============================] - 0s 4ms/step - loss: 0.4229 - accuracy: 0.8053 - val_loss: 0.5242 - val_accuracy: 0.7616\n",
            "Epoch 53/500\n",
            "25/25 [==============================] - 0s 4ms/step - loss: 0.4488 - accuracy: 0.7903 - val_loss: 0.5275 - val_accuracy: 0.7682\n",
            "Epoch 54/500\n",
            "25/25 [==============================] - 0s 4ms/step - loss: 0.4251 - accuracy: 0.7953 - val_loss: 0.5238 - val_accuracy: 0.7748\n",
            "Epoch 55/500\n",
            "25/25 [==============================] - 0s 4ms/step - loss: 0.4147 - accuracy: 0.8070 - val_loss: 0.5326 - val_accuracy: 0.7219\n",
            "Epoch 56/500\n",
            "25/25 [==============================] - 0s 5ms/step - loss: 0.4642 - accuracy: 0.7870 - val_loss: 0.5359 - val_accuracy: 0.7285\n",
            "Epoch 57/500\n",
            "25/25 [==============================] - 0s 4ms/step - loss: 0.4383 - accuracy: 0.8020 - val_loss: 0.5174 - val_accuracy: 0.7219\n",
            "Epoch 58/500\n",
            "25/25 [==============================] - 0s 4ms/step - loss: 0.4215 - accuracy: 0.8070 - val_loss: 0.5271 - val_accuracy: 0.7285\n",
            "Epoch 59/500\n",
            "25/25 [==============================] - 0s 4ms/step - loss: 0.4132 - accuracy: 0.8253 - val_loss: 0.5200 - val_accuracy: 0.7550\n",
            "Epoch 60/500\n",
            "25/25 [==============================] - 0s 4ms/step - loss: 0.4298 - accuracy: 0.8087 - val_loss: 0.5326 - val_accuracy: 0.7152\n",
            "Epoch 61/500\n",
            "25/25 [==============================] - 0s 4ms/step - loss: 0.4216 - accuracy: 0.8020 - val_loss: 0.5097 - val_accuracy: 0.7815\n",
            "Epoch 62/500\n",
            "25/25 [==============================] - 0s 4ms/step - loss: 0.4452 - accuracy: 0.7887 - val_loss: 0.5021 - val_accuracy: 0.7417\n",
            "Epoch 63/500\n",
            "25/25 [==============================] - 0s 4ms/step - loss: 0.4324 - accuracy: 0.8020 - val_loss: 0.5080 - val_accuracy: 0.7748\n",
            "Epoch 64/500\n",
            "25/25 [==============================] - 0s 4ms/step - loss: 0.4170 - accuracy: 0.7987 - val_loss: 0.5217 - val_accuracy: 0.7285\n",
            "Epoch 65/500\n",
            "25/25 [==============================] - 0s 5ms/step - loss: 0.4276 - accuracy: 0.8186 - val_loss: 0.5317 - val_accuracy: 0.7219\n",
            "Epoch 66/500\n",
            "25/25 [==============================] - 0s 5ms/step - loss: 0.4009 - accuracy: 0.8136 - val_loss: 0.5634 - val_accuracy: 0.7219\n",
            "Epoch 67/500\n",
            "25/25 [==============================] - 0s 5ms/step - loss: 0.4472 - accuracy: 0.7854 - val_loss: 0.4973 - val_accuracy: 0.7682\n",
            "Epoch 68/500\n",
            "25/25 [==============================] - 0s 5ms/step - loss: 0.4116 - accuracy: 0.8253 - val_loss: 0.5189 - val_accuracy: 0.7417\n",
            "Epoch 69/500\n",
            "25/25 [==============================] - 0s 4ms/step - loss: 0.4448 - accuracy: 0.7787 - val_loss: 0.5040 - val_accuracy: 0.7550\n",
            "Epoch 70/500\n",
            "25/25 [==============================] - 0s 4ms/step - loss: 0.4203 - accuracy: 0.8020 - val_loss: 0.5050 - val_accuracy: 0.7550\n",
            "Epoch 71/500\n",
            "25/25 [==============================] - 0s 4ms/step - loss: 0.4397 - accuracy: 0.8003 - val_loss: 0.4983 - val_accuracy: 0.7417\n",
            "Epoch 72/500\n",
            "25/25 [==============================] - 0s 5ms/step - loss: 0.4150 - accuracy: 0.8070 - val_loss: 0.5144 - val_accuracy: 0.7616\n",
            "Epoch 73/500\n",
            "25/25 [==============================] - 0s 5ms/step - loss: 0.4393 - accuracy: 0.7970 - val_loss: 0.5027 - val_accuracy: 0.7550\n",
            "Epoch 74/500\n",
            "25/25 [==============================] - 0s 5ms/step - loss: 0.4053 - accuracy: 0.8120 - val_loss: 0.5393 - val_accuracy: 0.7219\n",
            "Epoch 75/500\n",
            "25/25 [==============================] - 0s 4ms/step - loss: 0.4627 - accuracy: 0.7787 - val_loss: 0.5468 - val_accuracy: 0.7351\n",
            "Epoch 76/500\n",
            "25/25 [==============================] - 0s 5ms/step - loss: 0.4341 - accuracy: 0.7854 - val_loss: 0.5449 - val_accuracy: 0.7219\n",
            "Epoch 77/500\n",
            "25/25 [==============================] - 0s 5ms/step - loss: 0.4172 - accuracy: 0.8053 - val_loss: 0.5182 - val_accuracy: 0.7219\n",
            "Epoch 78/500\n",
            "25/25 [==============================] - 0s 4ms/step - loss: 0.4079 - accuracy: 0.8153 - val_loss: 0.4993 - val_accuracy: 0.7682\n",
            "Epoch 79/500\n",
            "25/25 [==============================] - 0s 4ms/step - loss: 0.4033 - accuracy: 0.8103 - val_loss: 0.5072 - val_accuracy: 0.7285\n",
            "Epoch 80/500\n",
            "25/25 [==============================] - 0s 5ms/step - loss: 0.4044 - accuracy: 0.8120 - val_loss: 0.5105 - val_accuracy: 0.7550\n",
            "Epoch 81/500\n",
            "25/25 [==============================] - 0s 4ms/step - loss: 0.3958 - accuracy: 0.8253 - val_loss: 0.5098 - val_accuracy: 0.7351\n",
            "Epoch 82/500\n",
            "25/25 [==============================] - 0s 5ms/step - loss: 0.3929 - accuracy: 0.8353 - val_loss: 0.5255 - val_accuracy: 0.7351\n",
            "Epoch 83/500\n",
            "25/25 [==============================] - 0s 5ms/step - loss: 0.4051 - accuracy: 0.8186 - val_loss: 0.5488 - val_accuracy: 0.7483\n",
            "Epoch 84/500\n",
            "25/25 [==============================] - 0s 4ms/step - loss: 0.4449 - accuracy: 0.8103 - val_loss: 0.5350 - val_accuracy: 0.7219\n",
            "Epoch 85/500\n",
            "25/25 [==============================] - 0s 4ms/step - loss: 0.3972 - accuracy: 0.8203 - val_loss: 0.5356 - val_accuracy: 0.7219\n",
            "Epoch 86/500\n",
            "25/25 [==============================] - 0s 4ms/step - loss: 0.3717 - accuracy: 0.8253 - val_loss: 0.5310 - val_accuracy: 0.7152\n",
            "Epoch 87/500\n",
            "25/25 [==============================] - 0s 4ms/step - loss: 0.4072 - accuracy: 0.8053 - val_loss: 0.5244 - val_accuracy: 0.6954\n",
            "Epoch 88/500\n",
            "25/25 [==============================] - 0s 4ms/step - loss: 0.3864 - accuracy: 0.8270 - val_loss: 0.5281 - val_accuracy: 0.7550\n",
            "Epoch 89/500\n",
            "25/25 [==============================] - 0s 5ms/step - loss: 0.3862 - accuracy: 0.8220 - val_loss: 0.5502 - val_accuracy: 0.7219\n",
            "Epoch 90/500\n",
            "25/25 [==============================] - 0s 4ms/step - loss: 0.3902 - accuracy: 0.8170 - val_loss: 0.5342 - val_accuracy: 0.7285\n",
            "Epoch 91/500\n",
            "25/25 [==============================] - 0s 5ms/step - loss: 0.3842 - accuracy: 0.8303 - val_loss: 0.5208 - val_accuracy: 0.7616\n",
            "Epoch 92/500\n",
            "25/25 [==============================] - 0s 4ms/step - loss: 0.3876 - accuracy: 0.8236 - val_loss: 0.5423 - val_accuracy: 0.7417\n",
            "Epoch 93/500\n",
            "25/25 [==============================] - 0s 4ms/step - loss: 0.3834 - accuracy: 0.8286 - val_loss: 0.5347 - val_accuracy: 0.7616\n",
            "Epoch 94/500\n",
            "25/25 [==============================] - 0s 4ms/step - loss: 0.3943 - accuracy: 0.8220 - val_loss: 0.5661 - val_accuracy: 0.7219\n",
            "Epoch 95/500\n",
            "25/25 [==============================] - 0s 5ms/step - loss: 0.3859 - accuracy: 0.8153 - val_loss: 0.5336 - val_accuracy: 0.7219\n",
            "Epoch 96/500\n",
            "25/25 [==============================] - 0s 4ms/step - loss: 0.3942 - accuracy: 0.8203 - val_loss: 0.5385 - val_accuracy: 0.7285\n",
            "Epoch 97/500\n",
            "25/25 [==============================] - 0s 4ms/step - loss: 0.3726 - accuracy: 0.8353 - val_loss: 0.5381 - val_accuracy: 0.7417\n",
            "Epoch 98/500\n",
            "25/25 [==============================] - 0s 4ms/step - loss: 0.4349 - accuracy: 0.8003 - val_loss: 0.5263 - val_accuracy: 0.7417\n",
            "Epoch 99/500\n",
            "25/25 [==============================] - 0s 4ms/step - loss: 0.4486 - accuracy: 0.7854 - val_loss: 0.5125 - val_accuracy: 0.7351\n",
            "Epoch 100/500\n",
            "25/25 [==============================] - 0s 4ms/step - loss: 0.3826 - accuracy: 0.8270 - val_loss: 0.5202 - val_accuracy: 0.7483\n",
            "Epoch 101/500\n",
            "25/25 [==============================] - 0s 5ms/step - loss: 0.3724 - accuracy: 0.8170 - val_loss: 0.5386 - val_accuracy: 0.7483\n",
            "Epoch 102/500\n",
            "25/25 [==============================] - 0s 4ms/step - loss: 0.3650 - accuracy: 0.8270 - val_loss: 0.5595 - val_accuracy: 0.7351\n",
            "Epoch 103/500\n",
            "25/25 [==============================] - 0s 4ms/step - loss: 0.3667 - accuracy: 0.8286 - val_loss: 0.5425 - val_accuracy: 0.7417\n",
            "Epoch 104/500\n",
            "25/25 [==============================] - 0s 4ms/step - loss: 0.3918 - accuracy: 0.8170 - val_loss: 0.5423 - val_accuracy: 0.7285\n",
            "Epoch 105/500\n",
            "25/25 [==============================] - 0s 4ms/step - loss: 0.4074 - accuracy: 0.8203 - val_loss: 0.5765 - val_accuracy: 0.7285\n",
            "Epoch 106/500\n",
            "25/25 [==============================] - 0s 4ms/step - loss: 0.4824 - accuracy: 0.7537 - val_loss: 0.5023 - val_accuracy: 0.7152\n",
            "Epoch 107/500\n",
            "25/25 [==============================] - 0s 4ms/step - loss: 0.4456 - accuracy: 0.7953 - val_loss: 0.5094 - val_accuracy: 0.7351\n",
            "Epoch 108/500\n",
            "25/25 [==============================] - 0s 4ms/step - loss: 0.3977 - accuracy: 0.8319 - val_loss: 0.5190 - val_accuracy: 0.7152\n",
            "Epoch 109/500\n",
            "25/25 [==============================] - 0s 4ms/step - loss: 0.4317 - accuracy: 0.8053 - val_loss: 0.5234 - val_accuracy: 0.7351\n",
            "Epoch 110/500\n",
            "25/25 [==============================] - 0s 4ms/step - loss: 0.3904 - accuracy: 0.8186 - val_loss: 0.5244 - val_accuracy: 0.7550\n",
            "Epoch 111/500\n",
            "25/25 [==============================] - 0s 4ms/step - loss: 0.4034 - accuracy: 0.8053 - val_loss: 0.5290 - val_accuracy: 0.7285\n",
            "Epoch 112/500\n",
            "25/25 [==============================] - 0s 4ms/step - loss: 0.3670 - accuracy: 0.8353 - val_loss: 0.5607 - val_accuracy: 0.7417\n",
            "Epoch 113/500\n",
            "25/25 [==============================] - 0s 4ms/step - loss: 0.3594 - accuracy: 0.8369 - val_loss: 0.5863 - val_accuracy: 0.7020\n",
            "Epoch 114/500\n",
            "25/25 [==============================] - 0s 5ms/step - loss: 0.4104 - accuracy: 0.8120 - val_loss: 0.5814 - val_accuracy: 0.6887\n",
            "Epoch 115/500\n",
            "25/25 [==============================] - 0s 4ms/step - loss: 0.3706 - accuracy: 0.8286 - val_loss: 0.5492 - val_accuracy: 0.7285\n",
            "Epoch 116/500\n",
            "25/25 [==============================] - 0s 5ms/step - loss: 0.3847 - accuracy: 0.8253 - val_loss: 0.5442 - val_accuracy: 0.7417\n",
            "Epoch 117/500\n",
            "25/25 [==============================] - 0s 5ms/step - loss: 0.3551 - accuracy: 0.8336 - val_loss: 0.5650 - val_accuracy: 0.7550\n",
            "Epoch 118/500\n",
            "25/25 [==============================] - 0s 5ms/step - loss: 0.4098 - accuracy: 0.8053 - val_loss: 0.5216 - val_accuracy: 0.7483\n",
            "Epoch 119/500\n",
            "25/25 [==============================] - 0s 4ms/step - loss: 0.3853 - accuracy: 0.8087 - val_loss: 0.5337 - val_accuracy: 0.7417\n",
            "Epoch 120/500\n",
            "25/25 [==============================] - 0s 4ms/step - loss: 0.3566 - accuracy: 0.8336 - val_loss: 0.5604 - val_accuracy: 0.7219\n",
            "Epoch 121/500\n",
            "25/25 [==============================] - 0s 5ms/step - loss: 0.3685 - accuracy: 0.8436 - val_loss: 0.5481 - val_accuracy: 0.7351\n",
            "Epoch 122/500\n",
            "25/25 [==============================] - 0s 5ms/step - loss: 0.3969 - accuracy: 0.8120 - val_loss: 0.5325 - val_accuracy: 0.7219\n",
            "Epoch 123/500\n",
            "25/25 [==============================] - 0s 4ms/step - loss: 0.3797 - accuracy: 0.8103 - val_loss: 0.5329 - val_accuracy: 0.7417\n",
            "Epoch 124/500\n",
            "25/25 [==============================] - 0s 5ms/step - loss: 0.3838 - accuracy: 0.8236 - val_loss: 0.5269 - val_accuracy: 0.7417\n",
            "Epoch 125/500\n",
            "25/25 [==============================] - 0s 4ms/step - loss: 0.3724 - accuracy: 0.8253 - val_loss: 0.5411 - val_accuracy: 0.7417\n",
            "Epoch 126/500\n",
            "25/25 [==============================] - 0s 4ms/step - loss: 0.3695 - accuracy: 0.8220 - val_loss: 0.5509 - val_accuracy: 0.7152\n",
            "Epoch 127/500\n",
            "25/25 [==============================] - 0s 5ms/step - loss: 0.3505 - accuracy: 0.8386 - val_loss: 0.5413 - val_accuracy: 0.7351\n",
            "Epoch 128/500\n",
            "25/25 [==============================] - 0s 4ms/step - loss: 0.3424 - accuracy: 0.8436 - val_loss: 0.5582 - val_accuracy: 0.7483\n",
            "Epoch 129/500\n",
            "25/25 [==============================] - 0s 4ms/step - loss: 0.3692 - accuracy: 0.8186 - val_loss: 0.5986 - val_accuracy: 0.7351\n",
            "Epoch 130/500\n",
            "25/25 [==============================] - 0s 4ms/step - loss: 0.3740 - accuracy: 0.8203 - val_loss: 0.5108 - val_accuracy: 0.7285\n",
            "Epoch 131/500\n",
            "25/25 [==============================] - 0s 4ms/step - loss: 0.3839 - accuracy: 0.8153 - val_loss: 0.5313 - val_accuracy: 0.7417\n",
            "Epoch 132/500\n",
            "25/25 [==============================] - 0s 4ms/step - loss: 0.3539 - accuracy: 0.8369 - val_loss: 0.5546 - val_accuracy: 0.7219\n",
            "Epoch 133/500\n",
            "25/25 [==============================] - 0s 5ms/step - loss: 0.3419 - accuracy: 0.8253 - val_loss: 0.5506 - val_accuracy: 0.7285\n",
            "Epoch 134/500\n",
            "25/25 [==============================] - 0s 5ms/step - loss: 0.3494 - accuracy: 0.8353 - val_loss: 0.5224 - val_accuracy: 0.7483\n",
            "Epoch 135/500\n",
            "25/25 [==============================] - 0s 5ms/step - loss: 0.3357 - accuracy: 0.8403 - val_loss: 0.5772 - val_accuracy: 0.7417\n",
            "Epoch 136/500\n",
            "25/25 [==============================] - 0s 5ms/step - loss: 0.3385 - accuracy: 0.8486 - val_loss: 0.5518 - val_accuracy: 0.7219\n",
            "Epoch 137/500\n",
            "25/25 [==============================] - 0s 4ms/step - loss: 0.3183 - accuracy: 0.8453 - val_loss: 0.5765 - val_accuracy: 0.7616\n",
            "Epoch 138/500\n",
            "25/25 [==============================] - 0s 4ms/step - loss: 0.3457 - accuracy: 0.8369 - val_loss: 0.5814 - val_accuracy: 0.7285\n",
            "Epoch 139/500\n",
            "25/25 [==============================] - 0s 4ms/step - loss: 0.3654 - accuracy: 0.8303 - val_loss: 0.5477 - val_accuracy: 0.7351\n",
            "Epoch 140/500\n",
            "25/25 [==============================] - 0s 4ms/step - loss: 0.3514 - accuracy: 0.8336 - val_loss: 0.5698 - val_accuracy: 0.7285\n",
            "Epoch 141/500\n",
            "25/25 [==============================] - 0s 4ms/step - loss: 0.3224 - accuracy: 0.8586 - val_loss: 0.5899 - val_accuracy: 0.7351\n",
            "Epoch 142/500\n",
            "25/25 [==============================] - 0s 4ms/step - loss: 0.3567 - accuracy: 0.8519 - val_loss: 0.5684 - val_accuracy: 0.7020\n",
            "Epoch 143/500\n",
            "25/25 [==============================] - 0s 4ms/step - loss: 0.3725 - accuracy: 0.8336 - val_loss: 0.5763 - val_accuracy: 0.7417\n",
            "Epoch 144/500\n",
            "25/25 [==============================] - 0s 5ms/step - loss: 0.3449 - accuracy: 0.8519 - val_loss: 0.5553 - val_accuracy: 0.7417\n",
            "Epoch 145/500\n",
            "25/25 [==============================] - 0s 5ms/step - loss: 0.3443 - accuracy: 0.8636 - val_loss: 0.5763 - val_accuracy: 0.7483\n",
            "Epoch 146/500\n",
            "25/25 [==============================] - 0s 4ms/step - loss: 0.3313 - accuracy: 0.8619 - val_loss: 0.5415 - val_accuracy: 0.7351\n",
            "Epoch 147/500\n",
            "25/25 [==============================] - 0s 5ms/step - loss: 0.3363 - accuracy: 0.8502 - val_loss: 0.5824 - val_accuracy: 0.7351\n",
            "Epoch 148/500\n",
            "25/25 [==============================] - 0s 4ms/step - loss: 0.3238 - accuracy: 0.8652 - val_loss: 0.5670 - val_accuracy: 0.7351\n",
            "Epoch 149/500\n",
            "25/25 [==============================] - 0s 5ms/step - loss: 0.3045 - accuracy: 0.8586 - val_loss: 0.5886 - val_accuracy: 0.7285\n",
            "Epoch 150/500\n",
            "25/25 [==============================] - 0s 4ms/step - loss: 0.3533 - accuracy: 0.8286 - val_loss: 0.5948 - val_accuracy: 0.7086\n",
            "Epoch 151/500\n",
            "25/25 [==============================] - 0s 4ms/step - loss: 0.3467 - accuracy: 0.8453 - val_loss: 0.6033 - val_accuracy: 0.7020\n",
            "Epoch 152/500\n",
            "25/25 [==============================] - 0s 4ms/step - loss: 0.3880 - accuracy: 0.8103 - val_loss: 0.5373 - val_accuracy: 0.7020\n",
            "Epoch 153/500\n",
            "25/25 [==============================] - 0s 5ms/step - loss: 0.3565 - accuracy: 0.8386 - val_loss: 0.6030 - val_accuracy: 0.7152\n",
            "Epoch 154/500\n",
            "25/25 [==============================] - 0s 5ms/step - loss: 0.3657 - accuracy: 0.8286 - val_loss: 0.5493 - val_accuracy: 0.7351\n",
            "Epoch 155/500\n",
            "25/25 [==============================] - 0s 5ms/step - loss: 0.3328 - accuracy: 0.8536 - val_loss: 0.5947 - val_accuracy: 0.7351\n",
            "Epoch 156/500\n",
            "25/25 [==============================] - 0s 4ms/step - loss: 0.3253 - accuracy: 0.8453 - val_loss: 0.5755 - val_accuracy: 0.7417\n",
            "Epoch 157/500\n",
            "25/25 [==============================] - 0s 5ms/step - loss: 0.3563 - accuracy: 0.8286 - val_loss: 0.5718 - val_accuracy: 0.7285\n",
            "Epoch 158/500\n",
            "25/25 [==============================] - 0s 5ms/step - loss: 0.3108 - accuracy: 0.8586 - val_loss: 0.5688 - val_accuracy: 0.7152\n",
            "Epoch 159/500\n",
            "25/25 [==============================] - 0s 4ms/step - loss: 0.2924 - accuracy: 0.8719 - val_loss: 0.5799 - val_accuracy: 0.7152\n",
            "Epoch 160/500\n",
            "25/25 [==============================] - 0s 4ms/step - loss: 0.3307 - accuracy: 0.8353 - val_loss: 0.6336 - val_accuracy: 0.7152\n",
            "Epoch 161/500\n",
            "25/25 [==============================] - 0s 5ms/step - loss: 0.3268 - accuracy: 0.8303 - val_loss: 0.5731 - val_accuracy: 0.7152\n",
            "Epoch 162/500\n",
            "25/25 [==============================] - 0s 4ms/step - loss: 0.3038 - accuracy: 0.8586 - val_loss: 0.6149 - val_accuracy: 0.7219\n",
            "Epoch 163/500\n",
            "25/25 [==============================] - 0s 5ms/step - loss: 0.3257 - accuracy: 0.8569 - val_loss: 0.5934 - val_accuracy: 0.7285\n",
            "Epoch 164/500\n",
            "25/25 [==============================] - 0s 4ms/step - loss: 0.3114 - accuracy: 0.8669 - val_loss: 0.6208 - val_accuracy: 0.7152\n",
            "Epoch 165/500\n",
            "25/25 [==============================] - 0s 5ms/step - loss: 0.2859 - accuracy: 0.8586 - val_loss: 0.6188 - val_accuracy: 0.7219\n",
            "Epoch 166/500\n",
            "25/25 [==============================] - 0s 5ms/step - loss: 0.3207 - accuracy: 0.8419 - val_loss: 0.6064 - val_accuracy: 0.7152\n",
            "Epoch 167/500\n",
            "25/25 [==============================] - 0s 5ms/step - loss: 0.2982 - accuracy: 0.8602 - val_loss: 0.6605 - val_accuracy: 0.7483\n",
            "Epoch 168/500\n",
            "25/25 [==============================] - 0s 5ms/step - loss: 0.3170 - accuracy: 0.8453 - val_loss: 0.5955 - val_accuracy: 0.7351\n",
            "Epoch 169/500\n",
            "25/25 [==============================] - 0s 5ms/step - loss: 0.3158 - accuracy: 0.8552 - val_loss: 0.6352 - val_accuracy: 0.7086\n",
            "Epoch 170/500\n",
            "25/25 [==============================] - 0s 5ms/step - loss: 0.2972 - accuracy: 0.8752 - val_loss: 0.6264 - val_accuracy: 0.7152\n",
            "Epoch 171/500\n",
            "25/25 [==============================] - 0s 5ms/step - loss: 0.2937 - accuracy: 0.8702 - val_loss: 0.6431 - val_accuracy: 0.7086\n",
            "Epoch 172/500\n",
            "25/25 [==============================] - 0s 5ms/step - loss: 0.2945 - accuracy: 0.8652 - val_loss: 0.6429 - val_accuracy: 0.6954\n",
            "Epoch 173/500\n",
            "25/25 [==============================] - 0s 4ms/step - loss: 0.2976 - accuracy: 0.8536 - val_loss: 0.6866 - val_accuracy: 0.7351\n",
            "Epoch 174/500\n",
            "25/25 [==============================] - 0s 5ms/step - loss: 0.3374 - accuracy: 0.8469 - val_loss: 0.5989 - val_accuracy: 0.7351\n",
            "Epoch 175/500\n",
            "25/25 [==============================] - 0s 4ms/step - loss: 0.3196 - accuracy: 0.8586 - val_loss: 0.6433 - val_accuracy: 0.7086\n",
            "Epoch 176/500\n",
            "25/25 [==============================] - 0s 4ms/step - loss: 0.3383 - accuracy: 0.8436 - val_loss: 0.6726 - val_accuracy: 0.6755\n",
            "Epoch 177/500\n",
            "25/25 [==============================] - 0s 4ms/step - loss: 0.3375 - accuracy: 0.8519 - val_loss: 0.6049 - val_accuracy: 0.7086\n",
            "Epoch 178/500\n",
            "25/25 [==============================] - 0s 5ms/step - loss: 0.3234 - accuracy: 0.8403 - val_loss: 0.6053 - val_accuracy: 0.6887\n",
            "Epoch 179/500\n",
            "25/25 [==============================] - 0s 4ms/step - loss: 0.2988 - accuracy: 0.8669 - val_loss: 0.6245 - val_accuracy: 0.7219\n",
            "Epoch 180/500\n",
            "25/25 [==============================] - 0s 5ms/step - loss: 0.3159 - accuracy: 0.8519 - val_loss: 0.6273 - val_accuracy: 0.7020\n",
            "Epoch 181/500\n",
            "25/25 [==============================] - 0s 5ms/step - loss: 0.2962 - accuracy: 0.8502 - val_loss: 0.6385 - val_accuracy: 0.7285\n",
            "Epoch 182/500\n",
            "25/25 [==============================] - 0s 5ms/step - loss: 0.3032 - accuracy: 0.8536 - val_loss: 0.6465 - val_accuracy: 0.7219\n",
            "Epoch 183/500\n",
            "25/25 [==============================] - 0s 4ms/step - loss: 0.2951 - accuracy: 0.8486 - val_loss: 0.5726 - val_accuracy: 0.7152\n",
            "Epoch 184/500\n",
            "25/25 [==============================] - 0s 4ms/step - loss: 0.2900 - accuracy: 0.8502 - val_loss: 0.6532 - val_accuracy: 0.7152\n",
            "Epoch 185/500\n",
            "25/25 [==============================] - 0s 5ms/step - loss: 0.2897 - accuracy: 0.8719 - val_loss: 0.6736 - val_accuracy: 0.7152\n",
            "Epoch 186/500\n",
            "25/25 [==============================] - 0s 5ms/step - loss: 0.2989 - accuracy: 0.8502 - val_loss: 0.6652 - val_accuracy: 0.7020\n",
            "Epoch 187/500\n",
            "25/25 [==============================] - 0s 4ms/step - loss: 0.3216 - accuracy: 0.8502 - val_loss: 0.6927 - val_accuracy: 0.7219\n",
            "Epoch 188/500\n",
            "25/25 [==============================] - 0s 4ms/step - loss: 0.3387 - accuracy: 0.8319 - val_loss: 0.5894 - val_accuracy: 0.7152\n",
            "Epoch 189/500\n",
            "25/25 [==============================] - 0s 4ms/step - loss: 0.4092 - accuracy: 0.8120 - val_loss: 0.6019 - val_accuracy: 0.7351\n",
            "Epoch 190/500\n",
            "25/25 [==============================] - 0s 4ms/step - loss: 0.3376 - accuracy: 0.8336 - val_loss: 0.5845 - val_accuracy: 0.7417\n",
            "Epoch 191/500\n",
            "25/25 [==============================] - 0s 5ms/step - loss: 0.3650 - accuracy: 0.8270 - val_loss: 0.6018 - val_accuracy: 0.7219\n",
            "Epoch 192/500\n",
            "25/25 [==============================] - 0s 4ms/step - loss: 0.3413 - accuracy: 0.8303 - val_loss: 0.5879 - val_accuracy: 0.7351\n",
            "Epoch 193/500\n",
            "25/25 [==============================] - 0s 4ms/step - loss: 0.3293 - accuracy: 0.8369 - val_loss: 0.6391 - val_accuracy: 0.7351\n",
            "Epoch 194/500\n",
            "25/25 [==============================] - 0s 5ms/step - loss: 0.3070 - accuracy: 0.8569 - val_loss: 0.6388 - val_accuracy: 0.7351\n",
            "Epoch 195/500\n",
            "25/25 [==============================] - 0s 5ms/step - loss: 0.3022 - accuracy: 0.8552 - val_loss: 0.6275 - val_accuracy: 0.7351\n",
            "Epoch 196/500\n",
            "25/25 [==============================] - 0s 5ms/step - loss: 0.3029 - accuracy: 0.8619 - val_loss: 0.6549 - val_accuracy: 0.7219\n",
            "Epoch 197/500\n",
            "25/25 [==============================] - 0s 4ms/step - loss: 0.3354 - accuracy: 0.8436 - val_loss: 0.6263 - val_accuracy: 0.7219\n",
            "Epoch 198/500\n",
            "25/25 [==============================] - 0s 5ms/step - loss: 0.3150 - accuracy: 0.8652 - val_loss: 0.6532 - val_accuracy: 0.6954\n",
            "Epoch 199/500\n",
            "25/25 [==============================] - 0s 5ms/step - loss: 0.2967 - accuracy: 0.8552 - val_loss: 0.6648 - val_accuracy: 0.7285\n",
            "Epoch 200/500\n",
            "25/25 [==============================] - 0s 4ms/step - loss: 0.2799 - accuracy: 0.8702 - val_loss: 0.6343 - val_accuracy: 0.7351\n",
            "Epoch 201/500\n",
            "25/25 [==============================] - 0s 4ms/step - loss: 0.2888 - accuracy: 0.8719 - val_loss: 0.6606 - val_accuracy: 0.7219\n",
            "Epoch 202/500\n",
            "25/25 [==============================] - 0s 5ms/step - loss: 0.2995 - accuracy: 0.8819 - val_loss: 0.6587 - val_accuracy: 0.7351\n",
            "Epoch 203/500\n",
            "25/25 [==============================] - 0s 5ms/step - loss: 0.2668 - accuracy: 0.8885 - val_loss: 0.6502 - val_accuracy: 0.7152\n",
            "Epoch 204/500\n",
            "25/25 [==============================] - 0s 4ms/step - loss: 0.2738 - accuracy: 0.8702 - val_loss: 0.6507 - val_accuracy: 0.7219\n",
            "Epoch 205/500\n",
            "25/25 [==============================] - 0s 5ms/step - loss: 0.2771 - accuracy: 0.8752 - val_loss: 0.6808 - val_accuracy: 0.6954\n",
            "Epoch 206/500\n",
            "25/25 [==============================] - 0s 5ms/step - loss: 0.3142 - accuracy: 0.8552 - val_loss: 0.6297 - val_accuracy: 0.7285\n",
            "Epoch 207/500\n",
            "25/25 [==============================] - 0s 5ms/step - loss: 0.2914 - accuracy: 0.8619 - val_loss: 0.6397 - val_accuracy: 0.7285\n",
            "Epoch 208/500\n",
            "25/25 [==============================] - 0s 4ms/step - loss: 0.2749 - accuracy: 0.8852 - val_loss: 0.6551 - val_accuracy: 0.7550\n",
            "Epoch 209/500\n",
            "25/25 [==============================] - 0s 5ms/step - loss: 0.2954 - accuracy: 0.8735 - val_loss: 0.6664 - val_accuracy: 0.7219\n",
            "Epoch 210/500\n",
            "25/25 [==============================] - 0s 4ms/step - loss: 0.2660 - accuracy: 0.8835 - val_loss: 0.6756 - val_accuracy: 0.7285\n",
            "Epoch 211/500\n",
            "25/25 [==============================] - 0s 5ms/step - loss: 0.3347 - accuracy: 0.8386 - val_loss: 0.6508 - val_accuracy: 0.7086\n",
            "Epoch 212/500\n",
            "25/25 [==============================] - 0s 5ms/step - loss: 0.2890 - accuracy: 0.8785 - val_loss: 0.6747 - val_accuracy: 0.7020\n",
            "Epoch 213/500\n",
            "25/25 [==============================] - 0s 4ms/step - loss: 0.3292 - accuracy: 0.8319 - val_loss: 0.6981 - val_accuracy: 0.7086\n",
            "Epoch 214/500\n",
            "25/25 [==============================] - 0s 5ms/step - loss: 0.4201 - accuracy: 0.8053 - val_loss: 0.6544 - val_accuracy: 0.6755\n",
            "Epoch 215/500\n",
            "25/25 [==============================] - 0s 5ms/step - loss: 0.3428 - accuracy: 0.8403 - val_loss: 0.6023 - val_accuracy: 0.7219\n",
            "Epoch 216/500\n",
            "25/25 [==============================] - 0s 5ms/step - loss: 0.3501 - accuracy: 0.8353 - val_loss: 0.6658 - val_accuracy: 0.7417\n",
            "Epoch 217/500\n",
            "25/25 [==============================] - 0s 5ms/step - loss: 0.3360 - accuracy: 0.8403 - val_loss: 0.6036 - val_accuracy: 0.7417\n",
            "Epoch 218/500\n",
            "25/25 [==============================] - 0s 5ms/step - loss: 0.3073 - accuracy: 0.8652 - val_loss: 0.6594 - val_accuracy: 0.7285\n",
            "Epoch 219/500\n",
            "25/25 [==============================] - 0s 4ms/step - loss: 0.2797 - accuracy: 0.8636 - val_loss: 0.6792 - val_accuracy: 0.7219\n",
            "Epoch 220/500\n",
            "25/25 [==============================] - 0s 5ms/step - loss: 0.3172 - accuracy: 0.8536 - val_loss: 0.6198 - val_accuracy: 0.7219\n",
            "Epoch 221/500\n",
            "25/25 [==============================] - 0s 5ms/step - loss: 0.4065 - accuracy: 0.8003 - val_loss: 0.5849 - val_accuracy: 0.7417\n",
            "Epoch 222/500\n",
            "25/25 [==============================] - 0s 5ms/step - loss: 0.3368 - accuracy: 0.8369 - val_loss: 0.5994 - val_accuracy: 0.7219\n",
            "Epoch 223/500\n",
            "25/25 [==============================] - 0s 5ms/step - loss: 0.2956 - accuracy: 0.8669 - val_loss: 0.6335 - val_accuracy: 0.7285\n",
            "Epoch 224/500\n",
            "25/25 [==============================] - 0s 4ms/step - loss: 0.2838 - accuracy: 0.8702 - val_loss: 0.6828 - val_accuracy: 0.7417\n",
            "Epoch 225/500\n",
            "25/25 [==============================] - 0s 4ms/step - loss: 0.2798 - accuracy: 0.8735 - val_loss: 0.6612 - val_accuracy: 0.7285\n",
            "Epoch 226/500\n",
            "25/25 [==============================] - 0s 4ms/step - loss: 0.3368 - accuracy: 0.8519 - val_loss: 0.6255 - val_accuracy: 0.7219\n",
            "Epoch 227/500\n",
            "25/25 [==============================] - 0s 4ms/step - loss: 0.3117 - accuracy: 0.8669 - val_loss: 0.6407 - val_accuracy: 0.7152\n",
            "Epoch 228/500\n",
            "25/25 [==============================] - 0s 4ms/step - loss: 0.2915 - accuracy: 0.8735 - val_loss: 0.6715 - val_accuracy: 0.7285\n",
            "Epoch 229/500\n",
            "25/25 [==============================] - 0s 5ms/step - loss: 0.2909 - accuracy: 0.8536 - val_loss: 0.6685 - val_accuracy: 0.7483\n",
            "Epoch 230/500\n",
            "25/25 [==============================] - 0s 4ms/step - loss: 0.2755 - accuracy: 0.8769 - val_loss: 0.6367 - val_accuracy: 0.7086\n",
            "Epoch 231/500\n",
            "25/25 [==============================] - 0s 4ms/step - loss: 0.2568 - accuracy: 0.8835 - val_loss: 0.7093 - val_accuracy: 0.7152\n",
            "Epoch 232/500\n",
            "25/25 [==============================] - 0s 4ms/step - loss: 0.2588 - accuracy: 0.8835 - val_loss: 0.6805 - val_accuracy: 0.7152\n",
            "Epoch 233/500\n",
            "25/25 [==============================] - 0s 4ms/step - loss: 0.2612 - accuracy: 0.8852 - val_loss: 0.7234 - val_accuracy: 0.7152\n",
            "Epoch 234/500\n",
            "25/25 [==============================] - 0s 4ms/step - loss: 0.2834 - accuracy: 0.8802 - val_loss: 0.6910 - val_accuracy: 0.7285\n",
            "Epoch 235/500\n",
            "25/25 [==============================] - 0s 5ms/step - loss: 0.2511 - accuracy: 0.8885 - val_loss: 0.7061 - val_accuracy: 0.7152\n",
            "Epoch 236/500\n",
            "25/25 [==============================] - 0s 5ms/step - loss: 0.2945 - accuracy: 0.8636 - val_loss: 0.6926 - val_accuracy: 0.7086\n",
            "Epoch 237/500\n",
            "25/25 [==============================] - 0s 5ms/step - loss: 0.2603 - accuracy: 0.8968 - val_loss: 0.6728 - val_accuracy: 0.7351\n",
            "Epoch 238/500\n",
            "25/25 [==============================] - 0s 5ms/step - loss: 0.3594 - accuracy: 0.8236 - val_loss: 0.5889 - val_accuracy: 0.7550\n",
            "Epoch 239/500\n",
            "25/25 [==============================] - 0s 5ms/step - loss: 0.3053 - accuracy: 0.8453 - val_loss: 0.6115 - val_accuracy: 0.6954\n",
            "Epoch 240/500\n",
            "25/25 [==============================] - 0s 5ms/step - loss: 0.2900 - accuracy: 0.8752 - val_loss: 0.6772 - val_accuracy: 0.7152\n",
            "Epoch 241/500\n",
            "25/25 [==============================] - 0s 4ms/step - loss: 0.2994 - accuracy: 0.8552 - val_loss: 0.6642 - val_accuracy: 0.6954\n",
            "Epoch 242/500\n",
            "25/25 [==============================] - 0s 5ms/step - loss: 0.2629 - accuracy: 0.8835 - val_loss: 0.7080 - val_accuracy: 0.7086\n",
            "Epoch 243/500\n",
            "25/25 [==============================] - 0s 5ms/step - loss: 0.2629 - accuracy: 0.8885 - val_loss: 0.6661 - val_accuracy: 0.7152\n",
            "Epoch 244/500\n",
            "25/25 [==============================] - 0s 5ms/step - loss: 0.2521 - accuracy: 0.8769 - val_loss: 0.6847 - val_accuracy: 0.7020\n",
            "Epoch 245/500\n",
            "25/25 [==============================] - 0s 5ms/step - loss: 0.2447 - accuracy: 0.8885 - val_loss: 0.7034 - val_accuracy: 0.6954\n",
            "Epoch 246/500\n",
            "25/25 [==============================] - 0s 5ms/step - loss: 0.2909 - accuracy: 0.8669 - val_loss: 0.7243 - val_accuracy: 0.7086\n",
            "Epoch 247/500\n",
            "25/25 [==============================] - 0s 5ms/step - loss: 0.3116 - accuracy: 0.8686 - val_loss: 0.6709 - val_accuracy: 0.7020\n",
            "Epoch 248/500\n",
            "25/25 [==============================] - 0s 5ms/step - loss: 0.2759 - accuracy: 0.8819 - val_loss: 0.6501 - val_accuracy: 0.6887\n",
            "Epoch 249/500\n",
            "25/25 [==============================] - 0s 4ms/step - loss: 0.3036 - accuracy: 0.8669 - val_loss: 0.6940 - val_accuracy: 0.6954\n",
            "Epoch 250/500\n",
            "25/25 [==============================] - 0s 4ms/step - loss: 0.2992 - accuracy: 0.8586 - val_loss: 0.6278 - val_accuracy: 0.7285\n",
            "Epoch 251/500\n",
            "25/25 [==============================] - 0s 4ms/step - loss: 0.2883 - accuracy: 0.8652 - val_loss: 0.6641 - val_accuracy: 0.7152\n",
            "Epoch 252/500\n",
            "25/25 [==============================] - 0s 4ms/step - loss: 0.2731 - accuracy: 0.8602 - val_loss: 0.6903 - val_accuracy: 0.7285\n",
            "Epoch 253/500\n",
            "25/25 [==============================] - 0s 4ms/step - loss: 0.2412 - accuracy: 0.8869 - val_loss: 0.6922 - val_accuracy: 0.7351\n",
            "Epoch 254/500\n",
            "25/25 [==============================] - 0s 5ms/step - loss: 0.2662 - accuracy: 0.8785 - val_loss: 0.6685 - val_accuracy: 0.7219\n",
            "Epoch 255/500\n",
            "25/25 [==============================] - 0s 4ms/step - loss: 0.2357 - accuracy: 0.9002 - val_loss: 0.6946 - val_accuracy: 0.7351\n",
            "Epoch 256/500\n",
            "25/25 [==============================] - 0s 4ms/step - loss: 0.2330 - accuracy: 0.8869 - val_loss: 0.6658 - val_accuracy: 0.7086\n",
            "Epoch 257/500\n",
            "25/25 [==============================] - 0s 5ms/step - loss: 0.2245 - accuracy: 0.9002 - val_loss: 0.7455 - val_accuracy: 0.7285\n",
            "Epoch 258/500\n",
            "25/25 [==============================] - 0s 4ms/step - loss: 0.2540 - accuracy: 0.8985 - val_loss: 0.7217 - val_accuracy: 0.7351\n",
            "Epoch 259/500\n",
            "25/25 [==============================] - 0s 4ms/step - loss: 0.2316 - accuracy: 0.8952 - val_loss: 0.7194 - val_accuracy: 0.6954\n",
            "Epoch 260/500\n",
            "25/25 [==============================] - 0s 5ms/step - loss: 0.2410 - accuracy: 0.8902 - val_loss: 0.7138 - val_accuracy: 0.7219\n",
            "Epoch 261/500\n",
            "25/25 [==============================] - 0s 5ms/step - loss: 0.2375 - accuracy: 0.9002 - val_loss: 0.7343 - val_accuracy: 0.7020\n",
            "Epoch 262/500\n",
            "25/25 [==============================] - 0s 5ms/step - loss: 0.2277 - accuracy: 0.9068 - val_loss: 0.7150 - val_accuracy: 0.7219\n",
            "Epoch 263/500\n",
            "25/25 [==============================] - 0s 4ms/step - loss: 0.2770 - accuracy: 0.8735 - val_loss: 0.7847 - val_accuracy: 0.7152\n",
            "Epoch 264/500\n",
            "25/25 [==============================] - 0s 5ms/step - loss: 0.2682 - accuracy: 0.8719 - val_loss: 0.6822 - val_accuracy: 0.7417\n",
            "Epoch 265/500\n",
            "25/25 [==============================] - 0s 4ms/step - loss: 0.3747 - accuracy: 0.8186 - val_loss: 0.7512 - val_accuracy: 0.7285\n",
            "Epoch 266/500\n",
            "25/25 [==============================] - 0s 5ms/step - loss: 0.3473 - accuracy: 0.8319 - val_loss: 0.6589 - val_accuracy: 0.7152\n",
            "Epoch 267/500\n",
            "25/25 [==============================] - 0s 4ms/step - loss: 0.2974 - accuracy: 0.8669 - val_loss: 0.6728 - val_accuracy: 0.7086\n",
            "Epoch 268/500\n",
            "25/25 [==============================] - 0s 5ms/step - loss: 0.2959 - accuracy: 0.8586 - val_loss: 0.6563 - val_accuracy: 0.7219\n",
            "Epoch 269/500\n",
            "25/25 [==============================] - 0s 5ms/step - loss: 0.2675 - accuracy: 0.8819 - val_loss: 0.6719 - val_accuracy: 0.7086\n",
            "Epoch 270/500\n",
            "25/25 [==============================] - 0s 5ms/step - loss: 0.2782 - accuracy: 0.8819 - val_loss: 0.6894 - val_accuracy: 0.7285\n",
            "Epoch 271/500\n",
            "25/25 [==============================] - 0s 4ms/step - loss: 0.3090 - accuracy: 0.8419 - val_loss: 0.6763 - val_accuracy: 0.7152\n",
            "Epoch 272/500\n",
            "25/25 [==============================] - 0s 4ms/step - loss: 0.2665 - accuracy: 0.8819 - val_loss: 0.6701 - val_accuracy: 0.7351\n",
            "Epoch 273/500\n",
            "25/25 [==============================] - 0s 5ms/step - loss: 0.2553 - accuracy: 0.8902 - val_loss: 0.6874 - val_accuracy: 0.7351\n",
            "Epoch 274/500\n",
            "25/25 [==============================] - 0s 4ms/step - loss: 0.2709 - accuracy: 0.8752 - val_loss: 0.6837 - val_accuracy: 0.7086\n",
            "Epoch 275/500\n",
            "25/25 [==============================] - 0s 4ms/step - loss: 0.2532 - accuracy: 0.8902 - val_loss: 0.7493 - val_accuracy: 0.7351\n",
            "Epoch 276/500\n",
            "25/25 [==============================] - 0s 5ms/step - loss: 0.2445 - accuracy: 0.9002 - val_loss: 0.7370 - val_accuracy: 0.7219\n",
            "Epoch 277/500\n",
            "25/25 [==============================] - 0s 5ms/step - loss: 0.2544 - accuracy: 0.8918 - val_loss: 0.6888 - val_accuracy: 0.7086\n",
            "Epoch 278/500\n",
            "25/25 [==============================] - 0s 5ms/step - loss: 0.2588 - accuracy: 0.8852 - val_loss: 0.6851 - val_accuracy: 0.7351\n",
            "Epoch 279/500\n",
            "25/25 [==============================] - 0s 5ms/step - loss: 0.2666 - accuracy: 0.8769 - val_loss: 0.7646 - val_accuracy: 0.7086\n",
            "Epoch 280/500\n",
            "25/25 [==============================] - 0s 4ms/step - loss: 0.2370 - accuracy: 0.8935 - val_loss: 0.7995 - val_accuracy: 0.7020\n",
            "Epoch 281/500\n",
            "25/25 [==============================] - 0s 5ms/step - loss: 0.2452 - accuracy: 0.8902 - val_loss: 0.7251 - val_accuracy: 0.7086\n",
            "Epoch 282/500\n",
            "25/25 [==============================] - 0s 4ms/step - loss: 0.3646 - accuracy: 0.8286 - val_loss: 0.6974 - val_accuracy: 0.7417\n",
            "Epoch 283/500\n",
            "25/25 [==============================] - 0s 4ms/step - loss: 0.3128 - accuracy: 0.8552 - val_loss: 0.6606 - val_accuracy: 0.7351\n",
            "Epoch 284/500\n",
            "25/25 [==============================] - 0s 5ms/step - loss: 0.3287 - accuracy: 0.8552 - val_loss: 0.6468 - val_accuracy: 0.7285\n",
            "Epoch 285/500\n",
            "25/25 [==============================] - 0s 5ms/step - loss: 0.2837 - accuracy: 0.8686 - val_loss: 0.6675 - val_accuracy: 0.7351\n",
            "Epoch 286/500\n",
            "25/25 [==============================] - 0s 4ms/step - loss: 0.2596 - accuracy: 0.8902 - val_loss: 0.7183 - val_accuracy: 0.7152\n",
            "Epoch 287/500\n",
            "25/25 [==============================] - 0s 5ms/step - loss: 0.2466 - accuracy: 0.8968 - val_loss: 0.6995 - val_accuracy: 0.7152\n",
            "Epoch 288/500\n",
            "25/25 [==============================] - 0s 4ms/step - loss: 0.2598 - accuracy: 0.8819 - val_loss: 0.7229 - val_accuracy: 0.7285\n",
            "Epoch 289/500\n",
            "25/25 [==============================] - 0s 4ms/step - loss: 0.2399 - accuracy: 0.8869 - val_loss: 0.7081 - val_accuracy: 0.7020\n",
            "Epoch 290/500\n",
            "25/25 [==============================] - 0s 5ms/step - loss: 0.2340 - accuracy: 0.9101 - val_loss: 0.7180 - val_accuracy: 0.7219\n",
            "Epoch 291/500\n",
            "25/25 [==============================] - 0s 5ms/step - loss: 0.2488 - accuracy: 0.8885 - val_loss: 0.7543 - val_accuracy: 0.7219\n",
            "Epoch 292/500\n",
            "25/25 [==============================] - 0s 5ms/step - loss: 0.2452 - accuracy: 0.9002 - val_loss: 0.7763 - val_accuracy: 0.7417\n",
            "Epoch 293/500\n",
            "25/25 [==============================] - 0s 5ms/step - loss: 0.2611 - accuracy: 0.8702 - val_loss: 0.7353 - val_accuracy: 0.7020\n",
            "Epoch 294/500\n",
            "25/25 [==============================] - 0s 5ms/step - loss: 0.2403 - accuracy: 0.8869 - val_loss: 0.7185 - val_accuracy: 0.7285\n",
            "Epoch 295/500\n",
            "25/25 [==============================] - 0s 5ms/step - loss: 0.2343 - accuracy: 0.8935 - val_loss: 0.7827 - val_accuracy: 0.7152\n",
            "Epoch 296/500\n",
            "25/25 [==============================] - 0s 4ms/step - loss: 0.2803 - accuracy: 0.8769 - val_loss: 0.7797 - val_accuracy: 0.6887\n",
            "Epoch 297/500\n",
            "25/25 [==============================] - 0s 4ms/step - loss: 0.2477 - accuracy: 0.9068 - val_loss: 0.7925 - val_accuracy: 0.7152\n",
            "Epoch 298/500\n",
            "25/25 [==============================] - 0s 5ms/step - loss: 0.2257 - accuracy: 0.9018 - val_loss: 0.7675 - val_accuracy: 0.7152\n",
            "Epoch 299/500\n",
            "25/25 [==============================] - 0s 5ms/step - loss: 0.2328 - accuracy: 0.8985 - val_loss: 0.8155 - val_accuracy: 0.7086\n",
            "Epoch 300/500\n",
            "25/25 [==============================] - 0s 5ms/step - loss: 0.2308 - accuracy: 0.8952 - val_loss: 0.7665 - val_accuracy: 0.6954\n",
            "Epoch 301/500\n",
            "25/25 [==============================] - 0s 4ms/step - loss: 0.2293 - accuracy: 0.8952 - val_loss: 0.7731 - val_accuracy: 0.7020\n",
            "Epoch 302/500\n",
            "25/25 [==============================] - 0s 4ms/step - loss: 0.2382 - accuracy: 0.8902 - val_loss: 0.6573 - val_accuracy: 0.7285\n",
            "Epoch 303/500\n",
            "25/25 [==============================] - 0s 5ms/step - loss: 0.2399 - accuracy: 0.8918 - val_loss: 0.7760 - val_accuracy: 0.7351\n",
            "Epoch 304/500\n",
            "25/25 [==============================] - 0s 4ms/step - loss: 0.2420 - accuracy: 0.9085 - val_loss: 0.7821 - val_accuracy: 0.7152\n",
            "Epoch 305/500\n",
            "25/25 [==============================] - 0s 4ms/step - loss: 0.2120 - accuracy: 0.9118 - val_loss: 0.8612 - val_accuracy: 0.6887\n",
            "Epoch 306/500\n",
            "25/25 [==============================] - 0s 5ms/step - loss: 0.2661 - accuracy: 0.8835 - val_loss: 0.8177 - val_accuracy: 0.7020\n",
            "Epoch 307/500\n",
            "25/25 [==============================] - 0s 5ms/step - loss: 0.2234 - accuracy: 0.9085 - val_loss: 0.8017 - val_accuracy: 0.7020\n",
            "Epoch 308/500\n",
            "25/25 [==============================] - 0s 5ms/step - loss: 0.2494 - accuracy: 0.9101 - val_loss: 0.7384 - val_accuracy: 0.7285\n",
            "Epoch 309/500\n",
            "25/25 [==============================] - 0s 5ms/step - loss: 0.2572 - accuracy: 0.9035 - val_loss: 0.7509 - val_accuracy: 0.7417\n",
            "Epoch 310/500\n",
            "25/25 [==============================] - 0s 5ms/step - loss: 0.2582 - accuracy: 0.8802 - val_loss: 0.7785 - val_accuracy: 0.7086\n",
            "Epoch 311/500\n",
            "25/25 [==============================] - 0s 5ms/step - loss: 0.2308 - accuracy: 0.9068 - val_loss: 0.8551 - val_accuracy: 0.7086\n",
            "Epoch 312/500\n",
            "25/25 [==============================] - 0s 4ms/step - loss: 0.2480 - accuracy: 0.8985 - val_loss: 0.7548 - val_accuracy: 0.7351\n",
            "Epoch 313/500\n",
            "25/25 [==============================] - 0s 5ms/step - loss: 0.2297 - accuracy: 0.9052 - val_loss: 0.7770 - val_accuracy: 0.7086\n",
            "Epoch 314/500\n",
            "25/25 [==============================] - 0s 5ms/step - loss: 0.3632 - accuracy: 0.8336 - val_loss: 0.7139 - val_accuracy: 0.7152\n",
            "Epoch 315/500\n",
            "25/25 [==============================] - 0s 5ms/step - loss: 0.2979 - accuracy: 0.8785 - val_loss: 0.7373 - val_accuracy: 0.7020\n",
            "Epoch 316/500\n",
            "25/25 [==============================] - 0s 5ms/step - loss: 0.2761 - accuracy: 0.8819 - val_loss: 0.6855 - val_accuracy: 0.7285\n",
            "Epoch 317/500\n",
            "25/25 [==============================] - 0s 5ms/step - loss: 0.2439 - accuracy: 0.9002 - val_loss: 0.7764 - val_accuracy: 0.7219\n",
            "Epoch 318/500\n",
            "25/25 [==============================] - 0s 5ms/step - loss: 0.2499 - accuracy: 0.8869 - val_loss: 0.7721 - val_accuracy: 0.7219\n",
            "Epoch 319/500\n",
            "25/25 [==============================] - 0s 5ms/step - loss: 0.2261 - accuracy: 0.8968 - val_loss: 0.8294 - val_accuracy: 0.7020\n",
            "Epoch 320/500\n",
            "25/25 [==============================] - 0s 5ms/step - loss: 0.2238 - accuracy: 0.9002 - val_loss: 0.7976 - val_accuracy: 0.7483\n",
            "Epoch 321/500\n",
            "25/25 [==============================] - 0s 5ms/step - loss: 0.2234 - accuracy: 0.9002 - val_loss: 0.8068 - val_accuracy: 0.7086\n",
            "Epoch 322/500\n",
            "25/25 [==============================] - 0s 5ms/step - loss: 0.2236 - accuracy: 0.9068 - val_loss: 0.8042 - val_accuracy: 0.7152\n",
            "Epoch 323/500\n",
            "25/25 [==============================] - 0s 5ms/step - loss: 0.2552 - accuracy: 0.8918 - val_loss: 0.7321 - val_accuracy: 0.7152\n",
            "Epoch 324/500\n",
            "25/25 [==============================] - 0s 5ms/step - loss: 0.2359 - accuracy: 0.8968 - val_loss: 0.8454 - val_accuracy: 0.6887\n",
            "Epoch 325/500\n",
            "25/25 [==============================] - 0s 5ms/step - loss: 0.2029 - accuracy: 0.9085 - val_loss: 0.8302 - val_accuracy: 0.7285\n",
            "Epoch 326/500\n",
            "25/25 [==============================] - 0s 5ms/step - loss: 0.2240 - accuracy: 0.9068 - val_loss: 0.8257 - val_accuracy: 0.7086\n",
            "Epoch 327/500\n",
            "25/25 [==============================] - 0s 5ms/step - loss: 0.2545 - accuracy: 0.8835 - val_loss: 0.7985 - val_accuracy: 0.6954\n",
            "Epoch 328/500\n",
            "25/25 [==============================] - 0s 5ms/step - loss: 0.2940 - accuracy: 0.8785 - val_loss: 0.8583 - val_accuracy: 0.7152\n",
            "Epoch 329/500\n",
            "25/25 [==============================] - 0s 4ms/step - loss: 0.3569 - accuracy: 0.8220 - val_loss: 0.7281 - val_accuracy: 0.7219\n",
            "Epoch 330/500\n",
            "25/25 [==============================] - 0s 4ms/step - loss: 0.3469 - accuracy: 0.8336 - val_loss: 0.7036 - val_accuracy: 0.7417\n",
            "Epoch 331/500\n",
            "25/25 [==============================] - 0s 4ms/step - loss: 0.2518 - accuracy: 0.8819 - val_loss: 0.7322 - val_accuracy: 0.7285\n",
            "Epoch 332/500\n",
            "25/25 [==============================] - 0s 5ms/step - loss: 0.2630 - accuracy: 0.8918 - val_loss: 0.7107 - val_accuracy: 0.7616\n",
            "Epoch 333/500\n",
            "25/25 [==============================] - 0s 5ms/step - loss: 0.2503 - accuracy: 0.8902 - val_loss: 0.7145 - val_accuracy: 0.7351\n",
            "Epoch 334/500\n",
            "25/25 [==============================] - 0s 5ms/step - loss: 0.2411 - accuracy: 0.8902 - val_loss: 0.7594 - val_accuracy: 0.7483\n",
            "Epoch 335/500\n",
            "25/25 [==============================] - 0s 6ms/step - loss: 0.2736 - accuracy: 0.8636 - val_loss: 0.7499 - val_accuracy: 0.7351\n",
            "Epoch 336/500\n",
            "25/25 [==============================] - 0s 5ms/step - loss: 0.2671 - accuracy: 0.8835 - val_loss: 0.7595 - val_accuracy: 0.7152\n",
            "Epoch 337/500\n",
            "25/25 [==============================] - 0s 5ms/step - loss: 0.2423 - accuracy: 0.8952 - val_loss: 0.7574 - val_accuracy: 0.7219\n",
            "Epoch 338/500\n",
            "25/25 [==============================] - 0s 5ms/step - loss: 0.2062 - accuracy: 0.9018 - val_loss: 0.8191 - val_accuracy: 0.7219\n",
            "Epoch 339/500\n",
            "25/25 [==============================] - 0s 5ms/step - loss: 0.2086 - accuracy: 0.9018 - val_loss: 0.7845 - val_accuracy: 0.7351\n",
            "Epoch 340/500\n",
            "25/25 [==============================] - 0s 4ms/step - loss: 0.2569 - accuracy: 0.8902 - val_loss: 0.7202 - val_accuracy: 0.7351\n",
            "Epoch 341/500\n",
            "25/25 [==============================] - 0s 5ms/step - loss: 0.2141 - accuracy: 0.9068 - val_loss: 0.8520 - val_accuracy: 0.7219\n",
            "Epoch 342/500\n",
            "25/25 [==============================] - 0s 5ms/step - loss: 0.2333 - accuracy: 0.8985 - val_loss: 0.7861 - val_accuracy: 0.7152\n",
            "Epoch 343/500\n",
            "25/25 [==============================] - 0s 4ms/step - loss: 0.1943 - accuracy: 0.9068 - val_loss: 0.8734 - val_accuracy: 0.6954\n",
            "Epoch 344/500\n",
            "25/25 [==============================] - 0s 4ms/step - loss: 0.3782 - accuracy: 0.8403 - val_loss: 0.6927 - val_accuracy: 0.7219\n",
            "Epoch 345/500\n",
            "25/25 [==============================] - 0s 5ms/step - loss: 0.3599 - accuracy: 0.8403 - val_loss: 0.6375 - val_accuracy: 0.7483\n",
            "Epoch 346/500\n",
            "25/25 [==============================] - 0s 5ms/step - loss: 0.3024 - accuracy: 0.8636 - val_loss: 0.6566 - val_accuracy: 0.6954\n",
            "Epoch 347/500\n",
            "25/25 [==============================] - 0s 5ms/step - loss: 0.2211 - accuracy: 0.8968 - val_loss: 0.7106 - val_accuracy: 0.6954\n",
            "Epoch 348/500\n",
            "25/25 [==============================] - 0s 4ms/step - loss: 0.2355 - accuracy: 0.9085 - val_loss: 0.7155 - val_accuracy: 0.7152\n",
            "Epoch 349/500\n",
            "25/25 [==============================] - 0s 5ms/step - loss: 0.2112 - accuracy: 0.9101 - val_loss: 0.7170 - val_accuracy: 0.7219\n",
            "Epoch 350/500\n",
            "25/25 [==============================] - 0s 4ms/step - loss: 0.2138 - accuracy: 0.9118 - val_loss: 0.8200 - val_accuracy: 0.7086\n",
            "Epoch 351/500\n",
            "25/25 [==============================] - 0s 5ms/step - loss: 0.2068 - accuracy: 0.9185 - val_loss: 0.8271 - val_accuracy: 0.7219\n",
            "Epoch 352/500\n",
            "25/25 [==============================] - 0s 5ms/step - loss: 0.1754 - accuracy: 0.9351 - val_loss: 0.8643 - val_accuracy: 0.6954\n",
            "Epoch 353/500\n",
            "25/25 [==============================] - 0s 5ms/step - loss: 0.1926 - accuracy: 0.9101 - val_loss: 0.8314 - val_accuracy: 0.6954\n",
            "Epoch 354/500\n",
            "25/25 [==============================] - 0s 4ms/step - loss: 0.2036 - accuracy: 0.9151 - val_loss: 0.8646 - val_accuracy: 0.7020\n",
            "Epoch 355/500\n",
            "25/25 [==============================] - 0s 5ms/step - loss: 0.1971 - accuracy: 0.9168 - val_loss: 0.8563 - val_accuracy: 0.7020\n",
            "Epoch 356/500\n",
            "25/25 [==============================] - 0s 5ms/step - loss: 0.1721 - accuracy: 0.9301 - val_loss: 0.8951 - val_accuracy: 0.6887\n",
            "Epoch 357/500\n",
            "25/25 [==============================] - 0s 5ms/step - loss: 0.2676 - accuracy: 0.8869 - val_loss: 0.7123 - val_accuracy: 0.7086\n",
            "Epoch 358/500\n",
            "25/25 [==============================] - 0s 5ms/step - loss: 0.1995 - accuracy: 0.9135 - val_loss: 0.8250 - val_accuracy: 0.7020\n",
            "Epoch 359/500\n",
            "25/25 [==============================] - 0s 5ms/step - loss: 0.1875 - accuracy: 0.9085 - val_loss: 0.8785 - val_accuracy: 0.7351\n",
            "Epoch 360/500\n",
            "25/25 [==============================] - 0s 4ms/step - loss: 0.2080 - accuracy: 0.9151 - val_loss: 0.8444 - val_accuracy: 0.6887\n",
            "Epoch 361/500\n",
            "25/25 [==============================] - 0s 4ms/step - loss: 0.2114 - accuracy: 0.9185 - val_loss: 0.8617 - val_accuracy: 0.6887\n",
            "Epoch 362/500\n",
            "25/25 [==============================] - 0s 5ms/step - loss: 0.1906 - accuracy: 0.9168 - val_loss: 0.8429 - val_accuracy: 0.7086\n",
            "Epoch 363/500\n",
            "25/25 [==============================] - 0s 5ms/step - loss: 0.2468 - accuracy: 0.8952 - val_loss: 0.7803 - val_accuracy: 0.7285\n",
            "Epoch 364/500\n",
            "25/25 [==============================] - 0s 5ms/step - loss: 0.2532 - accuracy: 0.8802 - val_loss: 0.7361 - val_accuracy: 0.7351\n",
            "Epoch 365/500\n",
            "25/25 [==============================] - 0s 4ms/step - loss: 0.2945 - accuracy: 0.8702 - val_loss: 0.8238 - val_accuracy: 0.7020\n",
            "Epoch 366/500\n",
            "25/25 [==============================] - 0s 4ms/step - loss: 0.2610 - accuracy: 0.8819 - val_loss: 0.7082 - val_accuracy: 0.7086\n",
            "Epoch 367/500\n",
            "25/25 [==============================] - 0s 5ms/step - loss: 0.2290 - accuracy: 0.9068 - val_loss: 0.7732 - val_accuracy: 0.7086\n",
            "Epoch 368/500\n",
            "25/25 [==============================] - 0s 5ms/step - loss: 0.2131 - accuracy: 0.9035 - val_loss: 0.7737 - val_accuracy: 0.7219\n",
            "Epoch 369/500\n",
            "25/25 [==============================] - 0s 6ms/step - loss: 0.1937 - accuracy: 0.9301 - val_loss: 0.8204 - val_accuracy: 0.7020\n",
            "Epoch 370/500\n",
            "25/25 [==============================] - 0s 5ms/step - loss: 0.2232 - accuracy: 0.9101 - val_loss: 0.7438 - val_accuracy: 0.7152\n",
            "Epoch 371/500\n",
            "25/25 [==============================] - 0s 4ms/step - loss: 0.2479 - accuracy: 0.8935 - val_loss: 0.6875 - val_accuracy: 0.7417\n",
            "Epoch 372/500\n",
            "25/25 [==============================] - 0s 5ms/step - loss: 0.3479 - accuracy: 0.8270 - val_loss: 0.7324 - val_accuracy: 0.7086\n",
            "Epoch 373/500\n",
            "25/25 [==============================] - 0s 5ms/step - loss: 0.2739 - accuracy: 0.8735 - val_loss: 0.7169 - val_accuracy: 0.7152\n",
            "Epoch 374/500\n",
            "25/25 [==============================] - 0s 5ms/step - loss: 0.2639 - accuracy: 0.8885 - val_loss: 0.6827 - val_accuracy: 0.7020\n",
            "Epoch 375/500\n",
            "25/25 [==============================] - 0s 5ms/step - loss: 0.2567 - accuracy: 0.9002 - val_loss: 0.7036 - val_accuracy: 0.7086\n",
            "Epoch 376/500\n",
            "25/25 [==============================] - 0s 5ms/step - loss: 0.2951 - accuracy: 0.8735 - val_loss: 0.6725 - val_accuracy: 0.7020\n",
            "Epoch 377/500\n",
            "25/25 [==============================] - 0s 5ms/step - loss: 0.2748 - accuracy: 0.8735 - val_loss: 0.7049 - val_accuracy: 0.7351\n",
            "Epoch 378/500\n",
            "25/25 [==============================] - 0s 5ms/step - loss: 0.2616 - accuracy: 0.8885 - val_loss: 0.7458 - val_accuracy: 0.7152\n",
            "Epoch 379/500\n",
            "25/25 [==============================] - 0s 5ms/step - loss: 0.2175 - accuracy: 0.9018 - val_loss: 0.6794 - val_accuracy: 0.7086\n",
            "Epoch 380/500\n",
            "25/25 [==============================] - 0s 5ms/step - loss: 0.2288 - accuracy: 0.9002 - val_loss: 0.7309 - val_accuracy: 0.7219\n",
            "Epoch 381/500\n",
            "25/25 [==============================] - 0s 4ms/step - loss: 0.2675 - accuracy: 0.9018 - val_loss: 0.7783 - val_accuracy: 0.7020\n",
            "Epoch 382/500\n",
            "25/25 [==============================] - 0s 5ms/step - loss: 0.3239 - accuracy: 0.8386 - val_loss: 0.6403 - val_accuracy: 0.7285\n",
            "Epoch 383/500\n",
            "25/25 [==============================] - 0s 5ms/step - loss: 0.2561 - accuracy: 0.9002 - val_loss: 0.6982 - val_accuracy: 0.7417\n",
            "Epoch 384/500\n",
            "25/25 [==============================] - 0s 4ms/step - loss: 0.2287 - accuracy: 0.9002 - val_loss: 0.6972 - val_accuracy: 0.6954\n",
            "Epoch 385/500\n",
            "25/25 [==============================] - 0s 6ms/step - loss: 0.2131 - accuracy: 0.8968 - val_loss: 0.7301 - val_accuracy: 0.7086\n",
            "Epoch 386/500\n",
            "25/25 [==============================] - 0s 5ms/step - loss: 0.2062 - accuracy: 0.9185 - val_loss: 0.7184 - val_accuracy: 0.7020\n",
            "Epoch 387/500\n",
            "25/25 [==============================] - 0s 4ms/step - loss: 0.2407 - accuracy: 0.9068 - val_loss: 0.7238 - val_accuracy: 0.7020\n",
            "Epoch 388/500\n",
            "25/25 [==============================] - 0s 4ms/step - loss: 0.2100 - accuracy: 0.9118 - val_loss: 0.7333 - val_accuracy: 0.7020\n",
            "Epoch 389/500\n",
            "25/25 [==============================] - 0s 4ms/step - loss: 0.2369 - accuracy: 0.9002 - val_loss: 0.7878 - val_accuracy: 0.7152\n",
            "Epoch 390/500\n",
            "25/25 [==============================] - 0s 5ms/step - loss: 0.2229 - accuracy: 0.8968 - val_loss: 0.7947 - val_accuracy: 0.7086\n",
            "Epoch 391/500\n",
            "25/25 [==============================] - 0s 5ms/step - loss: 0.2675 - accuracy: 0.9018 - val_loss: 0.8099 - val_accuracy: 0.7152\n",
            "Epoch 392/500\n",
            "25/25 [==============================] - 0s 5ms/step - loss: 0.2203 - accuracy: 0.9151 - val_loss: 0.7593 - val_accuracy: 0.7086\n",
            "Epoch 393/500\n",
            "25/25 [==============================] - 0s 6ms/step - loss: 0.2184 - accuracy: 0.9052 - val_loss: 0.8076 - val_accuracy: 0.6887\n",
            "Epoch 394/500\n",
            "25/25 [==============================] - 0s 5ms/step - loss: 0.2349 - accuracy: 0.9101 - val_loss: 0.7755 - val_accuracy: 0.7086\n",
            "Epoch 395/500\n",
            "25/25 [==============================] - 0s 5ms/step - loss: 0.2220 - accuracy: 0.8968 - val_loss: 0.7745 - val_accuracy: 0.7219\n",
            "Epoch 396/500\n",
            "25/25 [==============================] - 0s 5ms/step - loss: 0.3239 - accuracy: 0.8719 - val_loss: 0.7432 - val_accuracy: 0.7152\n",
            "Epoch 397/500\n",
            "25/25 [==============================] - 0s 5ms/step - loss: 0.2197 - accuracy: 0.9118 - val_loss: 0.7418 - val_accuracy: 0.7483\n",
            "Epoch 398/500\n",
            "25/25 [==============================] - 0s 5ms/step - loss: 0.2430 - accuracy: 0.9002 - val_loss: 0.7692 - val_accuracy: 0.7086\n",
            "Epoch 399/500\n",
            "25/25 [==============================] - 0s 5ms/step - loss: 0.2213 - accuracy: 0.9002 - val_loss: 0.7999 - val_accuracy: 0.7086\n",
            "Epoch 400/500\n",
            "25/25 [==============================] - 0s 5ms/step - loss: 0.2152 - accuracy: 0.9002 - val_loss: 0.8238 - val_accuracy: 0.7086\n",
            "Epoch 401/500\n",
            "25/25 [==============================] - 0s 5ms/step - loss: 0.1972 - accuracy: 0.9168 - val_loss: 0.8355 - val_accuracy: 0.7020\n",
            "Epoch 402/500\n",
            "25/25 [==============================] - 0s 4ms/step - loss: 0.1946 - accuracy: 0.9151 - val_loss: 0.8110 - val_accuracy: 0.7285\n",
            "Epoch 403/500\n",
            "25/25 [==============================] - 0s 5ms/step - loss: 0.1908 - accuracy: 0.9285 - val_loss: 0.8673 - val_accuracy: 0.6954\n",
            "Epoch 404/500\n",
            "25/25 [==============================] - 0s 5ms/step - loss: 0.1909 - accuracy: 0.9301 - val_loss: 0.8796 - val_accuracy: 0.7152\n",
            "Epoch 405/500\n",
            "25/25 [==============================] - 0s 5ms/step - loss: 0.1961 - accuracy: 0.9085 - val_loss: 0.8746 - val_accuracy: 0.6954\n",
            "Epoch 406/500\n",
            "25/25 [==============================] - 0s 6ms/step - loss: 0.2259 - accuracy: 0.9052 - val_loss: 0.8846 - val_accuracy: 0.7020\n",
            "Epoch 407/500\n",
            "25/25 [==============================] - 0s 5ms/step - loss: 0.2772 - accuracy: 0.8752 - val_loss: 0.7866 - val_accuracy: 0.7219\n",
            "Epoch 408/500\n",
            "25/25 [==============================] - 0s 5ms/step - loss: 0.2666 - accuracy: 0.8869 - val_loss: 0.7940 - val_accuracy: 0.7219\n",
            "Epoch 409/500\n",
            "25/25 [==============================] - 0s 5ms/step - loss: 0.2263 - accuracy: 0.9018 - val_loss: 0.7807 - val_accuracy: 0.7020\n",
            "Epoch 410/500\n",
            "25/25 [==============================] - 0s 5ms/step - loss: 0.2102 - accuracy: 0.9068 - val_loss: 0.8746 - val_accuracy: 0.7020\n",
            "Epoch 411/500\n",
            "25/25 [==============================] - 0s 5ms/step - loss: 0.1815 - accuracy: 0.9185 - val_loss: 0.8883 - val_accuracy: 0.7219\n",
            "Epoch 412/500\n",
            "25/25 [==============================] - 0s 5ms/step - loss: 0.2000 - accuracy: 0.9268 - val_loss: 0.8123 - val_accuracy: 0.7219\n",
            "Epoch 413/500\n",
            "25/25 [==============================] - 0s 6ms/step - loss: 0.1661 - accuracy: 0.9368 - val_loss: 0.9071 - val_accuracy: 0.7086\n",
            "Epoch 414/500\n",
            "25/25 [==============================] - 0s 5ms/step - loss: 0.1888 - accuracy: 0.9268 - val_loss: 0.9066 - val_accuracy: 0.7086\n",
            "Epoch 415/500\n",
            "25/25 [==============================] - 0s 5ms/step - loss: 0.1578 - accuracy: 0.9401 - val_loss: 1.0094 - val_accuracy: 0.6821\n",
            "Epoch 416/500\n",
            "25/25 [==============================] - 0s 5ms/step - loss: 0.1601 - accuracy: 0.9401 - val_loss: 0.9286 - val_accuracy: 0.6689\n",
            "Epoch 417/500\n",
            "25/25 [==============================] - 0s 5ms/step - loss: 0.1904 - accuracy: 0.9251 - val_loss: 0.9168 - val_accuracy: 0.7086\n",
            "Epoch 418/500\n",
            "25/25 [==============================] - 0s 5ms/step - loss: 0.1908 - accuracy: 0.9384 - val_loss: 0.8759 - val_accuracy: 0.7152\n",
            "Epoch 419/500\n",
            "25/25 [==============================] - 0s 5ms/step - loss: 0.2420 - accuracy: 0.9151 - val_loss: 0.8408 - val_accuracy: 0.7219\n",
            "Epoch 420/500\n",
            "25/25 [==============================] - 0s 6ms/step - loss: 0.1684 - accuracy: 0.9318 - val_loss: 0.8987 - val_accuracy: 0.7219\n",
            "Epoch 421/500\n",
            "25/25 [==============================] - 0s 5ms/step - loss: 0.2332 - accuracy: 0.9002 - val_loss: 0.8121 - val_accuracy: 0.6755\n",
            "Epoch 422/500\n",
            "25/25 [==============================] - 0s 5ms/step - loss: 0.2190 - accuracy: 0.9118 - val_loss: 0.8120 - val_accuracy: 0.7020\n",
            "Epoch 423/500\n",
            "25/25 [==============================] - 0s 6ms/step - loss: 0.2171 - accuracy: 0.9085 - val_loss: 0.8219 - val_accuracy: 0.7086\n",
            "Epoch 424/500\n",
            "25/25 [==============================] - 0s 5ms/step - loss: 0.1973 - accuracy: 0.9185 - val_loss: 0.7757 - val_accuracy: 0.7152\n",
            "Epoch 425/500\n",
            "25/25 [==============================] - 0s 5ms/step - loss: 0.2050 - accuracy: 0.9151 - val_loss: 0.7165 - val_accuracy: 0.7086\n",
            "Epoch 426/500\n",
            "25/25 [==============================] - 0s 5ms/step - loss: 0.1949 - accuracy: 0.9185 - val_loss: 0.7886 - val_accuracy: 0.7152\n",
            "Epoch 427/500\n",
            "25/25 [==============================] - 0s 5ms/step - loss: 0.1712 - accuracy: 0.9201 - val_loss: 0.8005 - val_accuracy: 0.7351\n",
            "Epoch 428/500\n",
            "25/25 [==============================] - 0s 6ms/step - loss: 0.2117 - accuracy: 0.8985 - val_loss: 0.7903 - val_accuracy: 0.6954\n",
            "Epoch 429/500\n",
            "25/25 [==============================] - 0s 6ms/step - loss: 0.1815 - accuracy: 0.9101 - val_loss: 0.8405 - val_accuracy: 0.7086\n",
            "Epoch 430/500\n",
            "25/25 [==============================] - 0s 5ms/step - loss: 0.1720 - accuracy: 0.9251 - val_loss: 0.8731 - val_accuracy: 0.7086\n",
            "Epoch 431/500\n",
            "25/25 [==============================] - 0s 5ms/step - loss: 0.1963 - accuracy: 0.9301 - val_loss: 0.8254 - val_accuracy: 0.7152\n",
            "Epoch 432/500\n",
            "25/25 [==============================] - 0s 5ms/step - loss: 0.2192 - accuracy: 0.9151 - val_loss: 0.8577 - val_accuracy: 0.7086\n",
            "Epoch 433/500\n",
            "25/25 [==============================] - 0s 5ms/step - loss: 0.1773 - accuracy: 0.9351 - val_loss: 0.8064 - val_accuracy: 0.7152\n",
            "Epoch 434/500\n",
            "25/25 [==============================] - 0s 5ms/step - loss: 0.1805 - accuracy: 0.9218 - val_loss: 0.8361 - val_accuracy: 0.7086\n",
            "Epoch 435/500\n",
            "25/25 [==============================] - 0s 5ms/step - loss: 0.1697 - accuracy: 0.9301 - val_loss: 0.9353 - val_accuracy: 0.6954\n",
            "Epoch 436/500\n",
            "25/25 [==============================] - 0s 6ms/step - loss: 0.1971 - accuracy: 0.9301 - val_loss: 0.8655 - val_accuracy: 0.7219\n",
            "Epoch 437/500\n",
            "25/25 [==============================] - 0s 5ms/step - loss: 0.1632 - accuracy: 0.9384 - val_loss: 1.0223 - val_accuracy: 0.7020\n",
            "Epoch 438/500\n",
            "25/25 [==============================] - 0s 5ms/step - loss: 0.2640 - accuracy: 0.8802 - val_loss: 0.8512 - val_accuracy: 0.6887\n",
            "Epoch 439/500\n",
            "25/25 [==============================] - 0s 5ms/step - loss: 0.2894 - accuracy: 0.8769 - val_loss: 0.7697 - val_accuracy: 0.6954\n",
            "Epoch 440/500\n",
            "25/25 [==============================] - 0s 6ms/step - loss: 0.1973 - accuracy: 0.9301 - val_loss: 0.9353 - val_accuracy: 0.7285\n",
            "Epoch 441/500\n",
            "25/25 [==============================] - 0s 5ms/step - loss: 0.1828 - accuracy: 0.9201 - val_loss: 0.9047 - val_accuracy: 0.7020\n",
            "Epoch 442/500\n",
            "25/25 [==============================] - 0s 5ms/step - loss: 0.1754 - accuracy: 0.9218 - val_loss: 0.8921 - val_accuracy: 0.7086\n",
            "Epoch 443/500\n",
            "25/25 [==============================] - 0s 5ms/step - loss: 0.2016 - accuracy: 0.9185 - val_loss: 0.9962 - val_accuracy: 0.6887\n",
            "Epoch 444/500\n",
            "25/25 [==============================] - 0s 6ms/step - loss: 0.1867 - accuracy: 0.9218 - val_loss: 0.9789 - val_accuracy: 0.7086\n",
            "Epoch 445/500\n",
            "25/25 [==============================] - 0s 5ms/step - loss: 0.1706 - accuracy: 0.9285 - val_loss: 1.0309 - val_accuracy: 0.6954\n",
            "Epoch 446/500\n",
            "25/25 [==============================] - 0s 5ms/step - loss: 0.1889 - accuracy: 0.9251 - val_loss: 0.9999 - val_accuracy: 0.7152\n",
            "Epoch 447/500\n",
            "25/25 [==============================] - 0s 5ms/step - loss: 0.1803 - accuracy: 0.9235 - val_loss: 1.0505 - val_accuracy: 0.7020\n",
            "Epoch 448/500\n",
            "25/25 [==============================] - 0s 5ms/step - loss: 0.1813 - accuracy: 0.9285 - val_loss: 0.9624 - val_accuracy: 0.7285\n",
            "Epoch 449/500\n",
            "25/25 [==============================] - 0s 4ms/step - loss: 0.1962 - accuracy: 0.9201 - val_loss: 1.0769 - val_accuracy: 0.7020\n",
            "Epoch 450/500\n",
            "25/25 [==============================] - 0s 5ms/step - loss: 0.1661 - accuracy: 0.9218 - val_loss: 1.0019 - val_accuracy: 0.6623\n",
            "Epoch 451/500\n",
            "25/25 [==============================] - 0s 6ms/step - loss: 0.1748 - accuracy: 0.9185 - val_loss: 0.9728 - val_accuracy: 0.6821\n",
            "Epoch 452/500\n",
            "25/25 [==============================] - 0s 5ms/step - loss: 0.3134 - accuracy: 0.8636 - val_loss: 0.7560 - val_accuracy: 0.6887\n",
            "Epoch 453/500\n",
            "25/25 [==============================] - 0s 4ms/step - loss: 0.2282 - accuracy: 0.9085 - val_loss: 0.7837 - val_accuracy: 0.7152\n",
            "Epoch 454/500\n",
            "25/25 [==============================] - 0s 5ms/step - loss: 0.2113 - accuracy: 0.9101 - val_loss: 0.8832 - val_accuracy: 0.7351\n",
            "Epoch 455/500\n",
            "25/25 [==============================] - 0s 5ms/step - loss: 0.4091 - accuracy: 0.8270 - val_loss: 0.6179 - val_accuracy: 0.7219\n",
            "Epoch 456/500\n",
            "25/25 [==============================] - 0s 5ms/step - loss: 0.3160 - accuracy: 0.8519 - val_loss: 0.6367 - val_accuracy: 0.7417\n",
            "Epoch 457/500\n",
            "25/25 [==============================] - 0s 4ms/step - loss: 0.2322 - accuracy: 0.8968 - val_loss: 0.6946 - val_accuracy: 0.7550\n",
            "Epoch 458/500\n",
            "25/25 [==============================] - 0s 5ms/step - loss: 0.2166 - accuracy: 0.9135 - val_loss: 0.8195 - val_accuracy: 0.6821\n",
            "Epoch 459/500\n",
            "25/25 [==============================] - 0s 6ms/step - loss: 0.4111 - accuracy: 0.8502 - val_loss: 0.6912 - val_accuracy: 0.6689\n",
            "Epoch 460/500\n",
            "25/25 [==============================] - 0s 4ms/step - loss: 0.2829 - accuracy: 0.8902 - val_loss: 0.6507 - val_accuracy: 0.6755\n",
            "Epoch 461/500\n",
            "25/25 [==============================] - 0s 5ms/step - loss: 0.3104 - accuracy: 0.8569 - val_loss: 0.6849 - val_accuracy: 0.6887\n",
            "Epoch 462/500\n",
            "25/25 [==============================] - 0s 5ms/step - loss: 0.2357 - accuracy: 0.8968 - val_loss: 0.7733 - val_accuracy: 0.7020\n",
            "Epoch 463/500\n",
            "25/25 [==============================] - 0s 5ms/step - loss: 0.2045 - accuracy: 0.9168 - val_loss: 0.7270 - val_accuracy: 0.7020\n",
            "Epoch 464/500\n",
            "25/25 [==============================] - 0s 5ms/step - loss: 0.1816 - accuracy: 0.9268 - val_loss: 0.8107 - val_accuracy: 0.6689\n",
            "Epoch 465/500\n",
            "25/25 [==============================] - 0s 5ms/step - loss: 0.1874 - accuracy: 0.9218 - val_loss: 0.8351 - val_accuracy: 0.6623\n",
            "Epoch 466/500\n",
            "25/25 [==============================] - 0s 5ms/step - loss: 0.2046 - accuracy: 0.9151 - val_loss: 0.8242 - val_accuracy: 0.7086\n",
            "Epoch 467/500\n",
            "25/25 [==============================] - 0s 6ms/step - loss: 0.1831 - accuracy: 0.9301 - val_loss: 0.7865 - val_accuracy: 0.7219\n",
            "Epoch 468/500\n",
            "25/25 [==============================] - 0s 4ms/step - loss: 0.1769 - accuracy: 0.9401 - val_loss: 0.8664 - val_accuracy: 0.7219\n",
            "Epoch 469/500\n",
            "25/25 [==============================] - 0s 5ms/step - loss: 0.1963 - accuracy: 0.9251 - val_loss: 0.8451 - val_accuracy: 0.6887\n",
            "Epoch 470/500\n",
            "25/25 [==============================] - 0s 5ms/step - loss: 0.1813 - accuracy: 0.9318 - val_loss: 0.8384 - val_accuracy: 0.7020\n",
            "Epoch 471/500\n",
            "25/25 [==============================] - 0s 5ms/step - loss: 0.2042 - accuracy: 0.9068 - val_loss: 0.8049 - val_accuracy: 0.6954\n",
            "Epoch 472/500\n",
            "25/25 [==============================] - 0s 5ms/step - loss: 0.1907 - accuracy: 0.9018 - val_loss: 0.8906 - val_accuracy: 0.7020\n",
            "Epoch 473/500\n",
            "25/25 [==============================] - 0s 5ms/step - loss: 0.1925 - accuracy: 0.9168 - val_loss: 0.8082 - val_accuracy: 0.6954\n",
            "Epoch 474/500\n",
            "25/25 [==============================] - 0s 5ms/step - loss: 0.1688 - accuracy: 0.9318 - val_loss: 0.8968 - val_accuracy: 0.7086\n",
            "Epoch 475/500\n",
            "25/25 [==============================] - 0s 5ms/step - loss: 0.1719 - accuracy: 0.9235 - val_loss: 0.8806 - val_accuracy: 0.7219\n",
            "Epoch 476/500\n",
            "25/25 [==============================] - 0s 5ms/step - loss: 0.1819 - accuracy: 0.9318 - val_loss: 0.8468 - val_accuracy: 0.6689\n",
            "Epoch 477/500\n",
            "25/25 [==============================] - 0s 5ms/step - loss: 0.1643 - accuracy: 0.9368 - val_loss: 0.9020 - val_accuracy: 0.7086\n",
            "Epoch 478/500\n",
            "25/25 [==============================] - 0s 5ms/step - loss: 0.1873 - accuracy: 0.9268 - val_loss: 0.8902 - val_accuracy: 0.7086\n",
            "Epoch 479/500\n",
            "25/25 [==============================] - 0s 5ms/step - loss: 0.1651 - accuracy: 0.9418 - val_loss: 0.9292 - val_accuracy: 0.7020\n",
            "Epoch 480/500\n",
            "25/25 [==============================] - 0s 5ms/step - loss: 0.1620 - accuracy: 0.9351 - val_loss: 0.9104 - val_accuracy: 0.7351\n",
            "Epoch 481/500\n",
            "25/25 [==============================] - 0s 5ms/step - loss: 0.1642 - accuracy: 0.9218 - val_loss: 0.9042 - val_accuracy: 0.7219\n",
            "Epoch 482/500\n",
            "25/25 [==============================] - 0s 5ms/step - loss: 0.1847 - accuracy: 0.9201 - val_loss: 0.9460 - val_accuracy: 0.6755\n",
            "Epoch 483/500\n",
            "25/25 [==============================] - 0s 5ms/step - loss: 0.1709 - accuracy: 0.9268 - val_loss: 0.9584 - val_accuracy: 0.6821\n",
            "Epoch 484/500\n",
            "25/25 [==============================] - 0s 5ms/step - loss: 0.1637 - accuracy: 0.9368 - val_loss: 0.9491 - val_accuracy: 0.7152\n",
            "Epoch 485/500\n",
            "25/25 [==============================] - 0s 5ms/step - loss: 0.1649 - accuracy: 0.9285 - val_loss: 0.9840 - val_accuracy: 0.6755\n",
            "Epoch 486/500\n",
            "25/25 [==============================] - 0s 5ms/step - loss: 0.1658 - accuracy: 0.9368 - val_loss: 0.9594 - val_accuracy: 0.6689\n",
            "Epoch 487/500\n",
            "25/25 [==============================] - 0s 6ms/step - loss: 0.1778 - accuracy: 0.9268 - val_loss: 1.0088 - val_accuracy: 0.7152\n",
            "Epoch 488/500\n",
            "25/25 [==============================] - 0s 5ms/step - loss: 0.1628 - accuracy: 0.9351 - val_loss: 0.9391 - val_accuracy: 0.7152\n",
            "Epoch 489/500\n",
            "25/25 [==============================] - 0s 6ms/step - loss: 0.1783 - accuracy: 0.9285 - val_loss: 0.9710 - val_accuracy: 0.7152\n",
            "Epoch 490/500\n",
            "25/25 [==============================] - 0s 5ms/step - loss: 0.1856 - accuracy: 0.9235 - val_loss: 0.8640 - val_accuracy: 0.7086\n",
            "Epoch 491/500\n",
            "25/25 [==============================] - 0s 5ms/step - loss: 0.2551 - accuracy: 0.8852 - val_loss: 0.8468 - val_accuracy: 0.7285\n",
            "Epoch 492/500\n",
            "25/25 [==============================] - 0s 5ms/step - loss: 0.2375 - accuracy: 0.9018 - val_loss: 0.7892 - val_accuracy: 0.7020\n",
            "Epoch 493/500\n",
            "25/25 [==============================] - 0s 5ms/step - loss: 0.2451 - accuracy: 0.9002 - val_loss: 0.7649 - val_accuracy: 0.7152\n",
            "Epoch 494/500\n",
            "25/25 [==============================] - 0s 5ms/step - loss: 0.2234 - accuracy: 0.9118 - val_loss: 0.7662 - val_accuracy: 0.6887\n",
            "Epoch 495/500\n",
            "25/25 [==============================] - 0s 5ms/step - loss: 0.2067 - accuracy: 0.9135 - val_loss: 0.8205 - val_accuracy: 0.6689\n",
            "Epoch 496/500\n",
            "25/25 [==============================] - 0s 5ms/step - loss: 0.2385 - accuracy: 0.8952 - val_loss: 0.7253 - val_accuracy: 0.6821\n",
            "Epoch 497/500\n",
            "25/25 [==============================] - 0s 5ms/step - loss: 0.2108 - accuracy: 0.9168 - val_loss: 0.8334 - val_accuracy: 0.7219\n",
            "Epoch 498/500\n",
            "25/25 [==============================] - 0s 5ms/step - loss: 0.2142 - accuracy: 0.9052 - val_loss: 0.7228 - val_accuracy: 0.7417\n",
            "Epoch 499/500\n",
            "25/25 [==============================] - 0s 6ms/step - loss: 0.2068 - accuracy: 0.9235 - val_loss: 0.7837 - val_accuracy: 0.7020\n",
            "Epoch 500/500\n",
            "25/25 [==============================] - 0s 5ms/step - loss: 0.1878 - accuracy: 0.9218 - val_loss: 0.9447 - val_accuracy: 0.6755\n"
          ]
        }
      ]
    },
    {
      "cell_type": "code",
      "source": [
        "pd.DataFrame(history.history)[['accuracy', 'val_accuracy']].plot(figsize = (8,6))"
      ],
      "metadata": {
        "id": "WHf3e64ShwnG",
        "colab": {
          "base_uri": "https://localhost:8080/",
          "height": 391
        },
        "outputId": "df1bdf57-77cf-4e41-a5f3-4e92f4b1e99c"
      },
      "execution_count": null,
      "outputs": [
        {
          "output_type": "execute_result",
          "data": {
            "text/plain": [
              "<matplotlib.axes._subplots.AxesSubplot at 0x7fba8f7c2990>"
            ]
          },
          "metadata": {},
          "execution_count": 31
        },
        {
          "output_type": "display_data",
          "data": {
            "image/png": "[encoded data removed]",
            "text/plain": [
              "<Figure size 576x432 with 1 Axes>"
            ]
          },
          "metadata": {
            "needs_background": "light"
          }
        }
      ]
    },
    {
      "cell_type": "code",
      "source": [
        "model.evaluate(X_test, y_test)"
      ],
      "metadata": {
        "id": "ntYMMujjiYpj",
        "colab": {
          "base_uri": "https://localhost:8080/"
        },
        "outputId": "079c1256-ae31-4b66-ec47-b1526e534e76"
      },
      "execution_count": null,
      "outputs": [
        {
          "output_type": "stream",
          "name": "stdout",
          "text": [
            "11/11 [==============================] - 0s 2ms/step - loss: 1.2167 - accuracy: 0.6780\n"
          ]
        },
        {
          "output_type": "execute_result",
          "data": {
            "text/plain": [
              "[1.2167010307312012, 0.6780185699462891]"
            ]
          },
          "metadata": {},
          "execution_count": 32
        }
      ]
    },
    {
      "cell_type": "code",
      "source": [
        "predict = model.predict(X_test)\n",
        "yhat = np.round(predict)"
      ],
      "metadata": {
        "id": "QoBnG0trialf"
      },
      "execution_count": null,
      "outputs": []
    },
    {
      "cell_type": "code",
      "source": [
        "from sklearn.metrics import confusion_matrix\n",
        "confusion_matrix(y_test, yhat)"
      ],
      "metadata": {
        "id": "KTQIO1mZidyg",
        "colab": {
          "base_uri": "https://localhost:8080/"
        },
        "outputId": "677906af-cb87-4d56-a03d-2c51619571c5"
      },
      "execution_count": null,
      "outputs": [
        {
          "output_type": "execute_result",
          "data": {
            "text/plain": [
              "array([[ 87,  81],\n",
              "       [ 23, 132]])"
            ]
          },
          "metadata": {},
          "execution_count": 34
        }
      ]
    },
    {
      "cell_type": "code",
      "source": [
        "sns.heatmap(confusion_matrix(y_test, yhat), annot = True)\n"
      ],
      "metadata": {
        "id": "JEfLB5DXigQi",
        "colab": {
          "base_uri": "https://localhost:8080/",
          "height": 283
        },
        "outputId": "8ca8bfcd-4934-4b6d-a4db-5ed203b74cb2"
      },
      "execution_count": null,
      "outputs": [
        {
          "output_type": "execute_result",
          "data": {
            "text/plain": [
              "<matplotlib.axes._subplots.AxesSubplot at 0x7fba9b256c90>"
            ]
          },
          "metadata": {},
          "execution_count": 35
        },
        {
          "output_type": "display_data",
          "data": {
            "image/png": "[encoded data removed]",
            "text/plain": [
              "<Figure size 432x288 with 2 Axes>"
            ]
          },
          "metadata": {
            "needs_background": "light"
          }
        }
      ]
    },
    {
      "cell_type": "code",
      "source": [
        "acc = accuracy_score(y_test, yhat)\n",
        "pre = precision_score(y_test, yhat)\n",
        "rec = recall_score(y_test, yhat)\n",
        "f1 = f1_score(y_test, yhat)\n",
        "\n",
        "print(\"Accuracy =\", acc)\n",
        "print(\"Precision =\",pre)\n",
        "print(\"Recall =\", rec)\n",
        "print(\"f1 =\", f1)"
      ],
      "metadata": {
        "id": "CEIJ0bvrKAUJ",
        "colab": {
          "base_uri": "https://localhost:8080/"
        },
        "outputId": "bd673067-a7c1-4830-91ca-025865c264af"
      },
      "execution_count": null,
      "outputs": [
        {
          "output_type": "stream",
          "name": "stdout",
          "text": [
            "Accuracy = 0.6780185758513931\n",
            "Precision = 0.6197183098591549\n",
            "Recall = 0.8516129032258064\n",
            "f1 = 0.7173913043478259\n"
          ]
        }
      ]
    },
    {
      "cell_type": "markdown",
      "source": [
        "#Test data"
      ],
      "metadata": {
        "id": "14QttMPRn_EO"
      }
    },
    {
      "cell_type": "code",
      "source": [
        "df_tst = df_tst.sample(frac=1)"
      ],
      "metadata": {
        "id": "RILt-o4HEsYf"
      },
      "execution_count": null,
      "outputs": []
    },
    {
      "cell_type": "code",
      "source": [
        "df_tst.keys()"
      ],
      "metadata": {
        "id": "fGUfVwBUmfZk",
        "colab": {
          "base_uri": "https://localhost:8080/"
        },
        "outputId": "3e3f56d1-0bd5-4b7b-cb0f-6df28aa6a106"
      },
      "execution_count": null,
      "outputs": [
        {
          "output_type": "execute_result",
          "data": {
            "text/plain": [
              "Index(['StringID', 'A', 'C', 'D', 'E', 'F', 'G', 'H', 'I', 'K', 'L', 'M', 'N',\n",
              "       'P', 'Q', 'R', 'S', 'T', 'V', 'W', 'Y', 'Result'],\n",
              "      dtype='object')"
            ]
          },
          "metadata": {},
          "execution_count": 38
        }
      ]
    },
    {
      "cell_type": "code",
      "source": [
        "sns.catplot(x = 'Result', kind = 'count', data = df_tst, palette='viridis')"
      ],
      "metadata": {
        "id": "6vaedstXl7i8",
        "colab": {
          "base_uri": "https://localhost:8080/",
          "height": 387
        },
        "outputId": "21416ac1-d889-47e4-960b-3895336b1a0d"
      },
      "execution_count": null,
      "outputs": [
        {
          "output_type": "execute_result",
          "data": {
            "text/plain": [
              "<seaborn.axisgrid.FacetGrid at 0x7fba9b262f10>"
            ]
          },
          "metadata": {},
          "execution_count": 39
        },
        {
          "output_type": "display_data",
          "data": {
            "image/png": "[encoded data removed]",
            "text/plain": [
              "<Figure size 360x360 with 1 Axes>"
            ]
          },
          "metadata": {
            "needs_background": "light"
          }
        }
      ]
    },
    {
      "cell_type": "code",
      "source": [
        "X_tst = df_tst.drop(['Result', 'StringID', 'Y'], axis = 1)\n",
        "y_tst = df_tst['Result']"
      ],
      "metadata": {
        "id": "UHBBSIZtmBbA"
      },
      "execution_count": null,
      "outputs": []
    },
    {
      "cell_type": "code",
      "source": [
        "model.evaluate(X_tst, y_tst)"
      ],
      "metadata": {
        "id": "t2ndYMknn6FF",
        "colab": {
          "base_uri": "https://localhost:8080/"
        },
        "outputId": "65c361cc-12e7-43c1-cdf3-97a08b360416"
      },
      "execution_count": null,
      "outputs": [
        {
          "output_type": "stream",
          "name": "stdout",
          "text": [
            "6/6 [==============================] - 0s 3ms/step - loss: 1.3263 - accuracy: 0.6505\n"
          ]
        },
        {
          "output_type": "execute_result",
          "data": {
            "text/plain": [
              "[1.326264500617981, 0.6505376100540161]"
            ]
          },
          "metadata": {},
          "execution_count": 41
        }
      ]
    },
    {
      "cell_type": "code",
      "source": [
        "predict = model.predict(X_tst)\n",
        "yhat = np.round(predict)"
      ],
      "metadata": {
        "id": "6NJrzslGoOt2"
      },
      "execution_count": null,
      "outputs": []
    },
    {
      "cell_type": "code",
      "source": [
        "from sklearn.metrics import confusion_matrix\n",
        "confusion_matrix(y_tst, yhat)"
      ],
      "metadata": {
        "id": "Ng3TkO_5oV8-",
        "colab": {
          "base_uri": "https://localhost:8080/"
        },
        "outputId": "dba84383-3204-4c52-f93b-0dba0825a41c"
      },
      "execution_count": null,
      "outputs": [
        {
          "output_type": "execute_result",
          "data": {
            "text/plain": [
              "array([[36, 57],\n",
              "       [ 8, 85]])"
            ]
          },
          "metadata": {},
          "execution_count": 43
        }
      ]
    },
    {
      "cell_type": "code",
      "source": [
        "svm = sns.heatmap(confusion_matrix(y_tst, yhat), annot = True)\n",
        "figure = svm.get_figure()    \n",
        "figure.savefig('test_conf_pdb186.png', dpi=400)"
      ],
      "metadata": {
        "id": "02a33_4voeay",
        "colab": {
          "base_uri": "https://localhost:8080/",
          "height": 265
        },
        "outputId": "2b5000c5-37a8-42f4-bae7-00145df2c91a"
      },
      "execution_count": null,
      "outputs": [
        {
          "output_type": "display_data",
          "data": {
            "image/png": "[encoded data removed]",
            "text/plain": [
              "<Figure size 432x288 with 2 Axes>"
            ]
          },
          "metadata": {
            "needs_background": "light"
          }
        }
      ]
    },
    {
      "cell_type": "code",
      "source": [
        "from sklearn.metrics import accuracy_score, precision_score, recall_score, f1_score\n",
        "acc = accuracy_score(y_tst, yhat)\n",
        "pre = precision_score(y_tst, yhat)\n",
        "rec = recall_score(y_tst, yhat)\n",
        "f1 = f1_score(y_tst, yhat)\n",
        "\n",
        "print(\"Accuracy =\", acc)\n",
        "print(\"Precision =\",pre)\n",
        "print(\"Recall =\", rec)\n",
        "print(\"f1 =\", f1)"
      ],
      "metadata": {
        "id": "JetpnXYfIn8i",
        "colab": {
          "base_uri": "https://localhost:8080/"
        },
        "outputId": "198cb69b-f284-4e13-9d9c-5ed90c8c42db"
      },
      "execution_count": null,
      "outputs": [
        {
          "output_type": "stream",
          "name": "stdout",
          "text": [
            "Accuracy = 0.6505376344086021\n",
            "Precision = 0.5985915492957746\n",
            "Recall = 0.9139784946236559\n",
            "f1 = 0.7234042553191489\n"
          ]
        }
      ]
    },
    {
      "cell_type": "code",
      "source": [
        "from sklearn import svm\n",
        "clf = svm.SVC(kernel='linear')"
      ],
      "metadata": {
        "id": "zLxWAq1HLNO1"
      },
      "execution_count": null,
      "outputs": []
    },
    {
      "cell_type": "code",
      "source": [
        "clf = clf.fit(X_train, y_train)"
      ],
      "metadata": {
        "id": "KINxFT6HMH0J"
      },
      "execution_count": null,
      "outputs": []
    },
    {
      "cell_type": "code",
      "source": [
        "predictions_1 = clf.predict(X_test)"
      ],
      "metadata": {
        "id": "ecQmg2reMREc"
      },
      "execution_count": null,
      "outputs": []
    },
    {
      "cell_type": "code",
      "source": [
        "\n",
        "acc = accuracy_score(y_test, predictions_1)\n",
        "pre = precision_score(y_test, predictions_1)\n",
        "rec = recall_score(y_test, predictions_1)\n",
        "f1 = f1_score(y_test, predictions_1)\n",
        "\n",
        "print(\"Accuracy =\", acc)\n",
        "print(\"Precision =\",pre)\n",
        "print(\"Recall =\", rec)\n",
        "print(\"f1 =\", f1)"
      ],
      "metadata": {
        "id": "9cyfzEh40J0p",
        "colab": {
          "base_uri": "https://localhost:8080/"
        },
        "outputId": "f2a165d2-cdec-430d-873e-7d66283a5ff8"
      },
      "execution_count": null,
      "outputs": [
        {
          "output_type": "stream",
          "name": "stdout",
          "text": [
            "Accuracy = 0.6068111455108359\n",
            "Precision = 0.71875\n",
            "Recall = 0.2967741935483871\n",
            "f1 = 0.42009132420091316\n"
          ]
        }
      ]
    },
    {
      "cell_type": "code",
      "source": [
        "from sklearn.metrics import plot_confusion_matrix\n",
        "matrix = plot_confusion_matrix(clf, X_test, y_test,\n",
        "                                 cmap=plt.cm.Blues,)\n",
        "plt.title('Confusion matrix for SVM')\n",
        "plt.show(matrix)\n",
        "plt.show()\n",
        "\n",
        "# svm = sns.heatmap(confusion_matrix(y_test, yhat), annot = True)\n",
        "# figure = svm.get_figure()    \n",
        "# figure.savefig('test_conf_pdb186.png', dpi=400)"
      ],
      "metadata": {
        "id": "eaPi5PTTMlcP",
        "colab": {
          "base_uri": "https://localhost:8080/",
          "height": 350
        },
        "outputId": "d982c320-3aaa-493c-9231-e5e5d70bea21"
      },
      "execution_count": null,
      "outputs": [
        {
          "output_type": "stream",
          "name": "stderr",
          "text": [
            "/usr/local/lib/python3.7/dist-packages/sklearn/utils/deprecation.py:87: FutureWarning: Function plot_confusion_matrix is deprecated; Function `plot_confusion_matrix` is deprecated in 1.0 and will be removed in 1.2. Use one of the class methods: ConfusionMatrixDisplay.from_predictions or ConfusionMatrixDisplay.from_estimator.\n",
            "  warnings.warn(msg, category=FutureWarning)\n"
          ]
        },
        {
          "output_type": "display_data",
          "data": {
            "image/png": "[encoded data removed]",
            "text/plain": [
              "<Figure size 432x288 with 2 Axes>"
            ]
          },
          "metadata": {
            "needs_background": "light"
          }
        }
      ]
    },
    {
      "cell_type": "code",
      "source": [
        "predictions2 = clf.predict(X_tst)"
      ],
      "metadata": {
        "id": "Jcs9MeKzM5Mt"
      },
      "execution_count": null,
      "outputs": []
    },
    {
      "cell_type": "code",
      "source": [
        "\n",
        "matrix = plot_confusion_matrix(clf, X_tst, y_tst,\n",
        "                                 cmap=plt.cm.Blues)\n",
        "plt.title('Confusion matrix for SVM')\n",
        "plt.show(matrix)\n",
        "plt.show()"
      ],
      "metadata": {
        "id": "9gAytXJgNLt-",
        "colab": {
          "base_uri": "https://localhost:8080/",
          "height": 350
        },
        "outputId": "843e1dbf-3d7f-416a-de08-59a5565a0707"
      },
      "execution_count": null,
      "outputs": [
        {
          "output_type": "stream",
          "name": "stderr",
          "text": [
            "/usr/local/lib/python3.7/dist-packages/sklearn/utils/deprecation.py:87: FutureWarning: Function plot_confusion_matrix is deprecated; Function `plot_confusion_matrix` is deprecated in 1.0 and will be removed in 1.2. Use one of the class methods: ConfusionMatrixDisplay.from_predictions or ConfusionMatrixDisplay.from_estimator.\n",
            "  warnings.warn(msg, category=FutureWarning)\n"
          ]
        },
        {
          "output_type": "display_data",
          "data": {
            "image/png": "[encoded data removed]",
            "text/plain": [
              "<Figure size 432x288 with 2 Axes>"
            ]
          },
          "metadata": {
            "needs_background": "light"
          }
        }
      ]
    },
    {
      "cell_type": "code",
      "source": [
        "acc = accuracy_score(y_tst, predictions2)\n",
        "pre = precision_score(y_tst, predictions2)\n",
        "rec = recall_score(y_tst, predictions2)\n",
        "f1 = f1_score(y_tst, predictions2)\n",
        "print(\"Accuracy =\", acc)\n",
        "print(\"Precision =\",pre)\n",
        "print(\"Recall =\", rec)\n",
        "print(\"f1 =\", f1)"
      ],
      "metadata": {
        "id": "WH8NdFyI1tda",
        "colab": {
          "base_uri": "https://localhost:8080/"
        },
        "outputId": "450d5d8c-287a-4285-d352-86a2abde1499"
      },
      "execution_count": null,
      "outputs": [
        {
          "output_type": "stream",
          "name": "stdout",
          "text": [
            "Accuracy = 0.5752688172043011\n",
            "Precision = 0.6521739130434783\n",
            "Recall = 0.3225806451612903\n",
            "f1 = 0.43165467625899284\n"
          ]
        }
      ]
    }
  ]
}